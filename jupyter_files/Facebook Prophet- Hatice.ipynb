{
 "cells": [
  {
   "cell_type": "code",
   "execution_count": 14,
   "metadata": {},
   "outputs": [],
   "source": [
    "import pandas as pd \n",
    "import numpy as np\n",
    "from fbprophet import Prophet\n",
    "from fbprophet.plot import add_changepoints_to_plot\n",
    "from fbprophet.diagnostics import cross_validation\n",
    "from fbprophet.diagnostics import performance_metrics"
   ]
  },
  {
   "cell_type": "code",
   "execution_count": 15,
   "metadata": {},
   "outputs": [
    {
     "data": {
      "text/html": [
       "<div>\n",
       "<style scoped>\n",
       "    .dataframe tbody tr th:only-of-type {\n",
       "        vertical-align: middle;\n",
       "    }\n",
       "\n",
       "    .dataframe tbody tr th {\n",
       "        vertical-align: top;\n",
       "    }\n",
       "\n",
       "    .dataframe thead th {\n",
       "        text-align: right;\n",
       "    }\n",
       "</style>\n",
       "<table border=\"1\" class=\"dataframe\">\n",
       "  <thead>\n",
       "    <tr style=\"text-align: right;\">\n",
       "      <th></th>\n",
       "      <th>RegionID</th>\n",
       "      <th>RegionName</th>\n",
       "      <th>City</th>\n",
       "      <th>State</th>\n",
       "      <th>Metro</th>\n",
       "      <th>CountyName</th>\n",
       "      <th>SizeRank</th>\n",
       "      <th>1996-04</th>\n",
       "      <th>1996-05</th>\n",
       "      <th>1996-06</th>\n",
       "      <th>...</th>\n",
       "      <th>2017-07</th>\n",
       "      <th>2017-08</th>\n",
       "      <th>2017-09</th>\n",
       "      <th>2017-10</th>\n",
       "      <th>2017-11</th>\n",
       "      <th>2017-12</th>\n",
       "      <th>2018-01</th>\n",
       "      <th>2018-02</th>\n",
       "      <th>2018-03</th>\n",
       "      <th>2018-04</th>\n",
       "    </tr>\n",
       "  </thead>\n",
       "  <tbody>\n",
       "    <tr>\n",
       "      <th>0</th>\n",
       "      <td>84654</td>\n",
       "      <td>60657</td>\n",
       "      <td>Chicago</td>\n",
       "      <td>IL</td>\n",
       "      <td>Chicago</td>\n",
       "      <td>Cook</td>\n",
       "      <td>1</td>\n",
       "      <td>334200.0</td>\n",
       "      <td>335400.0</td>\n",
       "      <td>336500.0</td>\n",
       "      <td>...</td>\n",
       "      <td>1005500</td>\n",
       "      <td>1007500</td>\n",
       "      <td>1007800</td>\n",
       "      <td>1009600</td>\n",
       "      <td>1013300</td>\n",
       "      <td>1018700</td>\n",
       "      <td>1024400</td>\n",
       "      <td>1030700</td>\n",
       "      <td>1033800</td>\n",
       "      <td>1030600</td>\n",
       "    </tr>\n",
       "    <tr>\n",
       "      <th>1</th>\n",
       "      <td>90668</td>\n",
       "      <td>75070</td>\n",
       "      <td>McKinney</td>\n",
       "      <td>TX</td>\n",
       "      <td>Dallas-Fort Worth</td>\n",
       "      <td>Collin</td>\n",
       "      <td>2</td>\n",
       "      <td>235700.0</td>\n",
       "      <td>236900.0</td>\n",
       "      <td>236700.0</td>\n",
       "      <td>...</td>\n",
       "      <td>308000</td>\n",
       "      <td>310000</td>\n",
       "      <td>312500</td>\n",
       "      <td>314100</td>\n",
       "      <td>315000</td>\n",
       "      <td>316600</td>\n",
       "      <td>318100</td>\n",
       "      <td>319600</td>\n",
       "      <td>321100</td>\n",
       "      <td>321800</td>\n",
       "    </tr>\n",
       "    <tr>\n",
       "      <th>2</th>\n",
       "      <td>91982</td>\n",
       "      <td>77494</td>\n",
       "      <td>Katy</td>\n",
       "      <td>TX</td>\n",
       "      <td>Houston</td>\n",
       "      <td>Harris</td>\n",
       "      <td>3</td>\n",
       "      <td>210400.0</td>\n",
       "      <td>212200.0</td>\n",
       "      <td>212200.0</td>\n",
       "      <td>...</td>\n",
       "      <td>321000</td>\n",
       "      <td>320600</td>\n",
       "      <td>320200</td>\n",
       "      <td>320400</td>\n",
       "      <td>320800</td>\n",
       "      <td>321200</td>\n",
       "      <td>321200</td>\n",
       "      <td>323000</td>\n",
       "      <td>326900</td>\n",
       "      <td>329900</td>\n",
       "    </tr>\n",
       "    <tr>\n",
       "      <th>3</th>\n",
       "      <td>84616</td>\n",
       "      <td>60614</td>\n",
       "      <td>Chicago</td>\n",
       "      <td>IL</td>\n",
       "      <td>Chicago</td>\n",
       "      <td>Cook</td>\n",
       "      <td>4</td>\n",
       "      <td>498100.0</td>\n",
       "      <td>500900.0</td>\n",
       "      <td>503100.0</td>\n",
       "      <td>...</td>\n",
       "      <td>1289800</td>\n",
       "      <td>1287700</td>\n",
       "      <td>1287400</td>\n",
       "      <td>1291500</td>\n",
       "      <td>1296600</td>\n",
       "      <td>1299000</td>\n",
       "      <td>1302700</td>\n",
       "      <td>1306400</td>\n",
       "      <td>1308500</td>\n",
       "      <td>1307000</td>\n",
       "    </tr>\n",
       "    <tr>\n",
       "      <th>4</th>\n",
       "      <td>93144</td>\n",
       "      <td>79936</td>\n",
       "      <td>El Paso</td>\n",
       "      <td>TX</td>\n",
       "      <td>El Paso</td>\n",
       "      <td>El Paso</td>\n",
       "      <td>5</td>\n",
       "      <td>77300.0</td>\n",
       "      <td>77300.0</td>\n",
       "      <td>77300.0</td>\n",
       "      <td>...</td>\n",
       "      <td>119100</td>\n",
       "      <td>119400</td>\n",
       "      <td>120000</td>\n",
       "      <td>120300</td>\n",
       "      <td>120300</td>\n",
       "      <td>120300</td>\n",
       "      <td>120300</td>\n",
       "      <td>120500</td>\n",
       "      <td>121000</td>\n",
       "      <td>121500</td>\n",
       "    </tr>\n",
       "  </tbody>\n",
       "</table>\n",
       "<p>5 rows × 272 columns</p>\n",
       "</div>"
      ],
      "text/plain": [
       "   RegionID  RegionName      City State              Metro CountyName  \\\n",
       "0     84654       60657   Chicago    IL            Chicago       Cook   \n",
       "1     90668       75070  McKinney    TX  Dallas-Fort Worth     Collin   \n",
       "2     91982       77494      Katy    TX            Houston     Harris   \n",
       "3     84616       60614   Chicago    IL            Chicago       Cook   \n",
       "4     93144       79936   El Paso    TX            El Paso    El Paso   \n",
       "\n",
       "   SizeRank   1996-04   1996-05   1996-06  ...  2017-07  2017-08  2017-09  \\\n",
       "0         1  334200.0  335400.0  336500.0  ...  1005500  1007500  1007800   \n",
       "1         2  235700.0  236900.0  236700.0  ...   308000   310000   312500   \n",
       "2         3  210400.0  212200.0  212200.0  ...   321000   320600   320200   \n",
       "3         4  498100.0  500900.0  503100.0  ...  1289800  1287700  1287400   \n",
       "4         5   77300.0   77300.0   77300.0  ...   119100   119400   120000   \n",
       "\n",
       "   2017-10  2017-11  2017-12  2018-01  2018-02  2018-03  2018-04  \n",
       "0  1009600  1013300  1018700  1024400  1030700  1033800  1030600  \n",
       "1   314100   315000   316600   318100   319600   321100   321800  \n",
       "2   320400   320800   321200   321200   323000   326900   329900  \n",
       "3  1291500  1296600  1299000  1302700  1306400  1308500  1307000  \n",
       "4   120300   120300   120300   120300   120500   121000   121500  \n",
       "\n",
       "[5 rows x 272 columns]"
      ]
     },
     "execution_count": 15,
     "metadata": {},
     "output_type": "execute_result"
    }
   ],
   "source": [
    "df = pd.read_csv('../data/zillow_data.csv')\n",
    "df.head()"
   ]
  },
  {
   "cell_type": "code",
   "execution_count": 16,
   "metadata": {},
   "outputs": [],
   "source": [
    "# Function to turn dataset from Wide Format to Long Format and return only the state Nevada \n",
    "def melt_data_nv(df):\n",
    "    melted = pd.melt(df, id_vars=['SizeRank','RegionID', 'RegionName', 'City', 'State', 'Metro', 'CountyName'], var_name='time')\n",
    "    melted['time'] = pd.to_datetime(melted['time'], infer_datetime_format=True)\n",
    "    melted.set_index('time',inplace=True)\n",
    "    return melted[melted['State'] == 'NV']"
   ]
  },
  {
   "cell_type": "code",
   "execution_count": 17,
   "metadata": {},
   "outputs": [
    {
     "data": {
      "text/html": [
       "<div>\n",
       "<style scoped>\n",
       "    .dataframe tbody tr th:only-of-type {\n",
       "        vertical-align: middle;\n",
       "    }\n",
       "\n",
       "    .dataframe tbody tr th {\n",
       "        vertical-align: top;\n",
       "    }\n",
       "\n",
       "    .dataframe thead th {\n",
       "        text-align: right;\n",
       "    }\n",
       "</style>\n",
       "<table border=\"1\" class=\"dataframe\">\n",
       "  <thead>\n",
       "    <tr style=\"text-align: right;\">\n",
       "      <th></th>\n",
       "      <th>SizeRank</th>\n",
       "      <th>RegionID</th>\n",
       "      <th>RegionName</th>\n",
       "      <th>City</th>\n",
       "      <th>State</th>\n",
       "      <th>Metro</th>\n",
       "      <th>CountyName</th>\n",
       "      <th>value</th>\n",
       "    </tr>\n",
       "    <tr>\n",
       "      <th>time</th>\n",
       "      <th></th>\n",
       "      <th></th>\n",
       "      <th></th>\n",
       "      <th></th>\n",
       "      <th></th>\n",
       "      <th></th>\n",
       "      <th></th>\n",
       "      <th></th>\n",
       "    </tr>\n",
       "  </thead>\n",
       "  <tbody>\n",
       "    <tr>\n",
       "      <th>1996-04-01</th>\n",
       "      <td>116</td>\n",
       "      <td>95804</td>\n",
       "      <td>89108</td>\n",
       "      <td>Las Vegas</td>\n",
       "      <td>NV</td>\n",
       "      <td>Las Vegas</td>\n",
       "      <td>Clark</td>\n",
       "      <td>102500.0</td>\n",
       "    </tr>\n",
       "    <tr>\n",
       "      <th>1996-04-01</th>\n",
       "      <td>174</td>\n",
       "      <td>95817</td>\n",
       "      <td>89121</td>\n",
       "      <td>Las Vegas</td>\n",
       "      <td>NV</td>\n",
       "      <td>Las Vegas</td>\n",
       "      <td>Clark</td>\n",
       "      <td>106800.0</td>\n",
       "    </tr>\n",
       "    <tr>\n",
       "      <th>1996-04-01</th>\n",
       "      <td>196</td>\n",
       "      <td>95813</td>\n",
       "      <td>89117</td>\n",
       "      <td>Las Vegas</td>\n",
       "      <td>NV</td>\n",
       "      <td>Las Vegas</td>\n",
       "      <td>Clark</td>\n",
       "      <td>165100.0</td>\n",
       "    </tr>\n",
       "    <tr>\n",
       "      <th>1996-04-01</th>\n",
       "      <td>263</td>\n",
       "      <td>95785</td>\n",
       "      <td>89052</td>\n",
       "      <td>Henderson</td>\n",
       "      <td>NV</td>\n",
       "      <td>Las Vegas</td>\n",
       "      <td>Clark</td>\n",
       "      <td>185700.0</td>\n",
       "    </tr>\n",
       "    <tr>\n",
       "      <th>1996-04-01</th>\n",
       "      <td>310</td>\n",
       "      <td>95819</td>\n",
       "      <td>89123</td>\n",
       "      <td>Las Vegas</td>\n",
       "      <td>NV</td>\n",
       "      <td>Las Vegas</td>\n",
       "      <td>Clark</td>\n",
       "      <td>144000.0</td>\n",
       "    </tr>\n",
       "  </tbody>\n",
       "</table>\n",
       "</div>"
      ],
      "text/plain": [
       "            SizeRank  RegionID  RegionName       City State      Metro  \\\n",
       "time                                                                     \n",
       "1996-04-01       116     95804       89108  Las Vegas    NV  Las Vegas   \n",
       "1996-04-01       174     95817       89121  Las Vegas    NV  Las Vegas   \n",
       "1996-04-01       196     95813       89117  Las Vegas    NV  Las Vegas   \n",
       "1996-04-01       263     95785       89052  Henderson    NV  Las Vegas   \n",
       "1996-04-01       310     95819       89123  Las Vegas    NV  Las Vegas   \n",
       "\n",
       "           CountyName     value  \n",
       "time                             \n",
       "1996-04-01      Clark  102500.0  \n",
       "1996-04-01      Clark  106800.0  \n",
       "1996-04-01      Clark  165100.0  \n",
       "1996-04-01      Clark  185700.0  \n",
       "1996-04-01      Clark  144000.0  "
      ]
     },
     "execution_count": 17,
     "metadata": {},
     "output_type": "execute_result"
    }
   ],
   "source": [
    "# Turning the function into Nevada Dataframe\n",
    "df_nv = melt_data_nv(df)\n",
    "df_nv.head()"
   ]
  },
  {
   "cell_type": "code",
   "execution_count": 18,
   "metadata": {},
   "outputs": [
    {
     "data": {
      "text/plain": [
       "103"
      ]
     },
     "execution_count": 18,
     "metadata": {},
     "output_type": "execute_result"
    }
   ],
   "source": [
    "len(list(set(df_nv.RegionID)))"
   ]
  },
  {
   "cell_type": "code",
   "execution_count": 19,
   "metadata": {},
   "outputs": [],
   "source": [
    "df_time_series = pd.DataFrame(index=pd.to_datetime(df.columns[7:]), data=np.ones(len(df.columns)-7))\n",
    "for i in range(df.shape[0]):\n",
    "    df_time_series[df['RegionID'][i]] = df.iloc[i,7:]\n",
    "df_time_series.drop(df_time_series.columns[0],axis=1, inplace=True)\n",
    "df_time_series.fillna(method='bfill', inplace=True)"
   ]
  },
  {
   "cell_type": "code",
   "execution_count": 20,
   "metadata": {},
   "outputs": [
    {
     "data": {
      "text/html": [
       "<div>\n",
       "<style scoped>\n",
       "    .dataframe tbody tr th:only-of-type {\n",
       "        vertical-align: middle;\n",
       "    }\n",
       "\n",
       "    .dataframe tbody tr th {\n",
       "        vertical-align: top;\n",
       "    }\n",
       "\n",
       "    .dataframe thead th {\n",
       "        text-align: right;\n",
       "    }\n",
       "</style>\n",
       "<table border=\"1\" class=\"dataframe\">\n",
       "  <thead>\n",
       "    <tr style=\"text-align: right;\">\n",
       "      <th></th>\n",
       "      <th>95744</th>\n",
       "      <th>95750</th>\n",
       "      <th>95751</th>\n",
       "      <th>95753</th>\n",
       "      <th>95754</th>\n",
       "      <th>95760</th>\n",
       "      <th>95766</th>\n",
       "      <th>95768</th>\n",
       "      <th>95769</th>\n",
       "      <th>95770</th>\n",
       "      <th>...</th>\n",
       "      <th>95956</th>\n",
       "      <th>95957</th>\n",
       "      <th>95963</th>\n",
       "      <th>95966</th>\n",
       "      <th>399665</th>\n",
       "      <th>399666</th>\n",
       "      <th>399671</th>\n",
       "      <th>399672</th>\n",
       "      <th>399673</th>\n",
       "      <th>399674</th>\n",
       "    </tr>\n",
       "  </thead>\n",
       "  <tbody>\n",
       "    <tr>\n",
       "      <th>1996-04-01</th>\n",
       "      <td>154600.0</td>\n",
       "      <td>131700.0</td>\n",
       "      <td>151000.0</td>\n",
       "      <td>137600.0</td>\n",
       "      <td>111500.0</td>\n",
       "      <td>153200.0</td>\n",
       "      <td>134100.0</td>\n",
       "      <td>131200.0</td>\n",
       "      <td>62100.0</td>\n",
       "      <td>122800.0</td>\n",
       "      <td>...</td>\n",
       "      <td>140200.0</td>\n",
       "      <td>110300.0</td>\n",
       "      <td>221900.0</td>\n",
       "      <td>233100.0</td>\n",
       "      <td>132500.0</td>\n",
       "      <td>196000.0</td>\n",
       "      <td>134000.0</td>\n",
       "      <td>175700.0</td>\n",
       "      <td>128400.0</td>\n",
       "      <td>264000.0</td>\n",
       "    </tr>\n",
       "    <tr>\n",
       "      <th>1996-05-01</th>\n",
       "      <td>154500.0</td>\n",
       "      <td>131600.0</td>\n",
       "      <td>151500.0</td>\n",
       "      <td>137600.0</td>\n",
       "      <td>111500.0</td>\n",
       "      <td>153700.0</td>\n",
       "      <td>133600.0</td>\n",
       "      <td>131000.0</td>\n",
       "      <td>62100.0</td>\n",
       "      <td>122800.0</td>\n",
       "      <td>...</td>\n",
       "      <td>140200.0</td>\n",
       "      <td>110500.0</td>\n",
       "      <td>221900.0</td>\n",
       "      <td>233100.0</td>\n",
       "      <td>132800.0</td>\n",
       "      <td>196000.0</td>\n",
       "      <td>134100.0</td>\n",
       "      <td>176400.0</td>\n",
       "      <td>129300.0</td>\n",
       "      <td>265200.0</td>\n",
       "    </tr>\n",
       "    <tr>\n",
       "      <th>1996-06-01</th>\n",
       "      <td>154300.0</td>\n",
       "      <td>131700.0</td>\n",
       "      <td>152000.0</td>\n",
       "      <td>137500.0</td>\n",
       "      <td>111400.0</td>\n",
       "      <td>154100.0</td>\n",
       "      <td>133000.0</td>\n",
       "      <td>130800.0</td>\n",
       "      <td>62100.0</td>\n",
       "      <td>122700.0</td>\n",
       "      <td>...</td>\n",
       "      <td>140100.0</td>\n",
       "      <td>110700.0</td>\n",
       "      <td>221900.0</td>\n",
       "      <td>233100.0</td>\n",
       "      <td>133000.0</td>\n",
       "      <td>195900.0</td>\n",
       "      <td>134300.0</td>\n",
       "      <td>177000.0</td>\n",
       "      <td>130200.0</td>\n",
       "      <td>266300.0</td>\n",
       "    </tr>\n",
       "    <tr>\n",
       "      <th>1996-07-01</th>\n",
       "      <td>154100.0</td>\n",
       "      <td>131700.0</td>\n",
       "      <td>152500.0</td>\n",
       "      <td>137400.0</td>\n",
       "      <td>111500.0</td>\n",
       "      <td>154400.0</td>\n",
       "      <td>132500.0</td>\n",
       "      <td>130600.0</td>\n",
       "      <td>62100.0</td>\n",
       "      <td>122700.0</td>\n",
       "      <td>...</td>\n",
       "      <td>140000.0</td>\n",
       "      <td>110900.0</td>\n",
       "      <td>221900.0</td>\n",
       "      <td>233100.0</td>\n",
       "      <td>133300.0</td>\n",
       "      <td>195700.0</td>\n",
       "      <td>134500.0</td>\n",
       "      <td>177700.0</td>\n",
       "      <td>131100.0</td>\n",
       "      <td>267300.0</td>\n",
       "    </tr>\n",
       "    <tr>\n",
       "      <th>1996-08-01</th>\n",
       "      <td>153900.0</td>\n",
       "      <td>131900.0</td>\n",
       "      <td>152900.0</td>\n",
       "      <td>137400.0</td>\n",
       "      <td>111500.0</td>\n",
       "      <td>154700.0</td>\n",
       "      <td>132000.0</td>\n",
       "      <td>130400.0</td>\n",
       "      <td>62100.0</td>\n",
       "      <td>122700.0</td>\n",
       "      <td>...</td>\n",
       "      <td>140100.0</td>\n",
       "      <td>111100.0</td>\n",
       "      <td>221900.0</td>\n",
       "      <td>233100.0</td>\n",
       "      <td>133600.0</td>\n",
       "      <td>195400.0</td>\n",
       "      <td>134900.0</td>\n",
       "      <td>178300.0</td>\n",
       "      <td>132000.0</td>\n",
       "      <td>268400.0</td>\n",
       "    </tr>\n",
       "    <tr>\n",
       "      <th>...</th>\n",
       "      <td>...</td>\n",
       "      <td>...</td>\n",
       "      <td>...</td>\n",
       "      <td>...</td>\n",
       "      <td>...</td>\n",
       "      <td>...</td>\n",
       "      <td>...</td>\n",
       "      <td>...</td>\n",
       "      <td>...</td>\n",
       "      <td>...</td>\n",
       "      <td>...</td>\n",
       "      <td>...</td>\n",
       "      <td>...</td>\n",
       "      <td>...</td>\n",
       "      <td>...</td>\n",
       "      <td>...</td>\n",
       "      <td>...</td>\n",
       "      <td>...</td>\n",
       "      <td>...</td>\n",
       "      <td>...</td>\n",
       "      <td>...</td>\n",
       "    </tr>\n",
       "    <tr>\n",
       "      <th>2017-12-01</th>\n",
       "      <td>300900.0</td>\n",
       "      <td>254200.0</td>\n",
       "      <td>331600.0</td>\n",
       "      <td>277000.0</td>\n",
       "      <td>240000.0</td>\n",
       "      <td>298300.0</td>\n",
       "      <td>227200.0</td>\n",
       "      <td>178400.0</td>\n",
       "      <td>140100.0</td>\n",
       "      <td>231600.0</td>\n",
       "      <td>...</td>\n",
       "      <td>302600.0</td>\n",
       "      <td>258200.0</td>\n",
       "      <td>237800.0</td>\n",
       "      <td>234100.0</td>\n",
       "      <td>292000.0</td>\n",
       "      <td>311700.0</td>\n",
       "      <td>262600.0</td>\n",
       "      <td>402200.0</td>\n",
       "      <td>290600.0</td>\n",
       "      <td>526400.0</td>\n",
       "    </tr>\n",
       "    <tr>\n",
       "      <th>2018-01-01</th>\n",
       "      <td>304400.0</td>\n",
       "      <td>257100.0</td>\n",
       "      <td>335100.0</td>\n",
       "      <td>280300.0</td>\n",
       "      <td>243200.0</td>\n",
       "      <td>299900.0</td>\n",
       "      <td>229500.0</td>\n",
       "      <td>179400.0</td>\n",
       "      <td>141600.0</td>\n",
       "      <td>234600.0</td>\n",
       "      <td>...</td>\n",
       "      <td>308700.0</td>\n",
       "      <td>259300.0</td>\n",
       "      <td>239900.0</td>\n",
       "      <td>236200.0</td>\n",
       "      <td>294800.0</td>\n",
       "      <td>315500.0</td>\n",
       "      <td>265500.0</td>\n",
       "      <td>406300.0</td>\n",
       "      <td>292200.0</td>\n",
       "      <td>527100.0</td>\n",
       "    </tr>\n",
       "    <tr>\n",
       "      <th>2018-02-01</th>\n",
       "      <td>307500.0</td>\n",
       "      <td>259500.0</td>\n",
       "      <td>338000.0</td>\n",
       "      <td>283100.0</td>\n",
       "      <td>246100.0</td>\n",
       "      <td>302500.0</td>\n",
       "      <td>231800.0</td>\n",
       "      <td>179800.0</td>\n",
       "      <td>145100.0</td>\n",
       "      <td>237200.0</td>\n",
       "      <td>...</td>\n",
       "      <td>314200.0</td>\n",
       "      <td>261500.0</td>\n",
       "      <td>241400.0</td>\n",
       "      <td>238100.0</td>\n",
       "      <td>297200.0</td>\n",
       "      <td>319500.0</td>\n",
       "      <td>268200.0</td>\n",
       "      <td>410300.0</td>\n",
       "      <td>293500.0</td>\n",
       "      <td>529700.0</td>\n",
       "    </tr>\n",
       "    <tr>\n",
       "      <th>2018-03-01</th>\n",
       "      <td>310200.0</td>\n",
       "      <td>261800.0</td>\n",
       "      <td>340800.0</td>\n",
       "      <td>285900.0</td>\n",
       "      <td>248800.0</td>\n",
       "      <td>305700.0</td>\n",
       "      <td>234200.0</td>\n",
       "      <td>180500.0</td>\n",
       "      <td>149100.0</td>\n",
       "      <td>239800.0</td>\n",
       "      <td>...</td>\n",
       "      <td>317100.0</td>\n",
       "      <td>265800.0</td>\n",
       "      <td>242800.0</td>\n",
       "      <td>240300.0</td>\n",
       "      <td>299500.0</td>\n",
       "      <td>323600.0</td>\n",
       "      <td>270500.0</td>\n",
       "      <td>416000.0</td>\n",
       "      <td>296600.0</td>\n",
       "      <td>538600.0</td>\n",
       "    </tr>\n",
       "    <tr>\n",
       "      <th>2018-04-01</th>\n",
       "      <td>311800.0</td>\n",
       "      <td>263600.0</td>\n",
       "      <td>342800.0</td>\n",
       "      <td>287600.0</td>\n",
       "      <td>250900.0</td>\n",
       "      <td>307800.0</td>\n",
       "      <td>236100.0</td>\n",
       "      <td>181200.0</td>\n",
       "      <td>151300.0</td>\n",
       "      <td>241900.0</td>\n",
       "      <td>...</td>\n",
       "      <td>319400.0</td>\n",
       "      <td>269500.0</td>\n",
       "      <td>244200.0</td>\n",
       "      <td>242600.0</td>\n",
       "      <td>300900.0</td>\n",
       "      <td>326600.0</td>\n",
       "      <td>271800.0</td>\n",
       "      <td>420600.0</td>\n",
       "      <td>299800.0</td>\n",
       "      <td>547600.0</td>\n",
       "    </tr>\n",
       "  </tbody>\n",
       "</table>\n",
       "<p>265 rows × 103 columns</p>\n",
       "</div>"
      ],
      "text/plain": [
       "              95744     95750     95751     95753     95754     95760   \\\n",
       "1996-04-01  154600.0  131700.0  151000.0  137600.0  111500.0  153200.0   \n",
       "1996-05-01  154500.0  131600.0  151500.0  137600.0  111500.0  153700.0   \n",
       "1996-06-01  154300.0  131700.0  152000.0  137500.0  111400.0  154100.0   \n",
       "1996-07-01  154100.0  131700.0  152500.0  137400.0  111500.0  154400.0   \n",
       "1996-08-01  153900.0  131900.0  152900.0  137400.0  111500.0  154700.0   \n",
       "...              ...       ...       ...       ...       ...       ...   \n",
       "2017-12-01  300900.0  254200.0  331600.0  277000.0  240000.0  298300.0   \n",
       "2018-01-01  304400.0  257100.0  335100.0  280300.0  243200.0  299900.0   \n",
       "2018-02-01  307500.0  259500.0  338000.0  283100.0  246100.0  302500.0   \n",
       "2018-03-01  310200.0  261800.0  340800.0  285900.0  248800.0  305700.0   \n",
       "2018-04-01  311800.0  263600.0  342800.0  287600.0  250900.0  307800.0   \n",
       "\n",
       "              95766     95768     95769     95770   ...    95956     95957   \\\n",
       "1996-04-01  134100.0  131200.0   62100.0  122800.0  ...  140200.0  110300.0   \n",
       "1996-05-01  133600.0  131000.0   62100.0  122800.0  ...  140200.0  110500.0   \n",
       "1996-06-01  133000.0  130800.0   62100.0  122700.0  ...  140100.0  110700.0   \n",
       "1996-07-01  132500.0  130600.0   62100.0  122700.0  ...  140000.0  110900.0   \n",
       "1996-08-01  132000.0  130400.0   62100.0  122700.0  ...  140100.0  111100.0   \n",
       "...              ...       ...       ...       ...  ...       ...       ...   \n",
       "2017-12-01  227200.0  178400.0  140100.0  231600.0  ...  302600.0  258200.0   \n",
       "2018-01-01  229500.0  179400.0  141600.0  234600.0  ...  308700.0  259300.0   \n",
       "2018-02-01  231800.0  179800.0  145100.0  237200.0  ...  314200.0  261500.0   \n",
       "2018-03-01  234200.0  180500.0  149100.0  239800.0  ...  317100.0  265800.0   \n",
       "2018-04-01  236100.0  181200.0  151300.0  241900.0  ...  319400.0  269500.0   \n",
       "\n",
       "              95963     95966     399665    399666    399671    399672  \\\n",
       "1996-04-01  221900.0  233100.0  132500.0  196000.0  134000.0  175700.0   \n",
       "1996-05-01  221900.0  233100.0  132800.0  196000.0  134100.0  176400.0   \n",
       "1996-06-01  221900.0  233100.0  133000.0  195900.0  134300.0  177000.0   \n",
       "1996-07-01  221900.0  233100.0  133300.0  195700.0  134500.0  177700.0   \n",
       "1996-08-01  221900.0  233100.0  133600.0  195400.0  134900.0  178300.0   \n",
       "...              ...       ...       ...       ...       ...       ...   \n",
       "2017-12-01  237800.0  234100.0  292000.0  311700.0  262600.0  402200.0   \n",
       "2018-01-01  239900.0  236200.0  294800.0  315500.0  265500.0  406300.0   \n",
       "2018-02-01  241400.0  238100.0  297200.0  319500.0  268200.0  410300.0   \n",
       "2018-03-01  242800.0  240300.0  299500.0  323600.0  270500.0  416000.0   \n",
       "2018-04-01  244200.0  242600.0  300900.0  326600.0  271800.0  420600.0   \n",
       "\n",
       "              399673    399674  \n",
       "1996-04-01  128400.0  264000.0  \n",
       "1996-05-01  129300.0  265200.0  \n",
       "1996-06-01  130200.0  266300.0  \n",
       "1996-07-01  131100.0  267300.0  \n",
       "1996-08-01  132000.0  268400.0  \n",
       "...              ...       ...  \n",
       "2017-12-01  290600.0  526400.0  \n",
       "2018-01-01  292200.0  527100.0  \n",
       "2018-02-01  293500.0  529700.0  \n",
       "2018-03-01  296600.0  538600.0  \n",
       "2018-04-01  299800.0  547600.0  \n",
       "\n",
       "[265 rows x 103 columns]"
      ]
     },
     "execution_count": 20,
     "metadata": {},
     "output_type": "execute_result"
    }
   ],
   "source": [
    "df_time_series = df_time_series[list(set(df_nv.RegionID))]\n",
    "df_time_series"
   ]
  },
  {
   "cell_type": "markdown",
   "metadata": {},
   "source": [
    "The model below iterates over every zipcode in Denver and predecits the prices in May 2018. It cross validates the model fitted with 17 years of training data, one year of validation set (horizon) and the model makes predictions per zipcode for each year between 2013 and 2017. It returns average Mean Absolute Percentage Error (MAPE) for each zipcode."
   ]
  },
  {
   "cell_type": "code",
   "execution_count": 21,
   "metadata": {},
   "outputs": [
    {
     "name": "stderr",
     "output_type": "stream",
     "text": [
      "INFO:fbprophet:Disabling weekly seasonality. Run prophet with weekly_seasonality=True to override this.\n",
      "INFO:fbprophet:Disabling daily seasonality. Run prophet with daily_seasonality=True to override this.\n",
      "INFO:fbprophet:Making 5 forecasts with cutoffs between 2013-04-02 00:00:00 and 2017-04-01 00:00:00\n",
      "100%|██████████| 5/5 [00:09<00:00,  1.91s/it]\n",
      "INFO:fbprophet:Disabling weekly seasonality. Run prophet with weekly_seasonality=True to override this.\n",
      "INFO:fbprophet:Disabling daily seasonality. Run prophet with daily_seasonality=True to override this.\n"
     ]
    },
    {
     "name": "stdout",
     "output_type": "stream",
     "text": [
      "iteration=1\n"
     ]
    },
    {
     "name": "stderr",
     "output_type": "stream",
     "text": [
      "INFO:fbprophet:Making 5 forecasts with cutoffs between 2013-04-02 00:00:00 and 2017-04-01 00:00:00\n",
      "100%|██████████| 5/5 [00:08<00:00,  1.66s/it]\n",
      "INFO:fbprophet:Disabling weekly seasonality. Run prophet with weekly_seasonality=True to override this.\n",
      "INFO:fbprophet:Disabling daily seasonality. Run prophet with daily_seasonality=True to override this.\n"
     ]
    },
    {
     "name": "stdout",
     "output_type": "stream",
     "text": [
      "iteration=2\n"
     ]
    },
    {
     "name": "stderr",
     "output_type": "stream",
     "text": [
      "INFO:fbprophet:Making 5 forecasts with cutoffs between 2013-04-02 00:00:00 and 2017-04-01 00:00:00\n",
      "100%|██████████| 5/5 [00:10<00:00,  2.09s/it]\n",
      "INFO:fbprophet:Disabling weekly seasonality. Run prophet with weekly_seasonality=True to override this.\n",
      "INFO:fbprophet:Disabling daily seasonality. Run prophet with daily_seasonality=True to override this.\n"
     ]
    },
    {
     "name": "stdout",
     "output_type": "stream",
     "text": [
      "iteration=3\n"
     ]
    },
    {
     "name": "stderr",
     "output_type": "stream",
     "text": [
      "INFO:fbprophet:Making 5 forecasts with cutoffs between 2013-04-02 00:00:00 and 2017-04-01 00:00:00\n",
      "100%|██████████| 5/5 [00:07<00:00,  1.57s/it]\n",
      "INFO:fbprophet:Disabling weekly seasonality. Run prophet with weekly_seasonality=True to override this.\n",
      "INFO:fbprophet:Disabling daily seasonality. Run prophet with daily_seasonality=True to override this.\n"
     ]
    },
    {
     "name": "stdout",
     "output_type": "stream",
     "text": [
      "iteration=4\n"
     ]
    },
    {
     "name": "stderr",
     "output_type": "stream",
     "text": [
      "INFO:fbprophet:Making 5 forecasts with cutoffs between 2013-04-02 00:00:00 and 2017-04-01 00:00:00\n",
      "100%|██████████| 5/5 [00:07<00:00,  1.57s/it]\n",
      "INFO:fbprophet:Disabling weekly seasonality. Run prophet with weekly_seasonality=True to override this.\n",
      "INFO:fbprophet:Disabling daily seasonality. Run prophet with daily_seasonality=True to override this.\n"
     ]
    },
    {
     "name": "stdout",
     "output_type": "stream",
     "text": [
      "iteration=5\n"
     ]
    },
    {
     "name": "stderr",
     "output_type": "stream",
     "text": [
      "INFO:fbprophet:Making 5 forecasts with cutoffs between 2013-04-02 00:00:00 and 2017-04-01 00:00:00\n",
      "100%|██████████| 5/5 [00:07<00:00,  1.51s/it]\n",
      "INFO:fbprophet:Disabling weekly seasonality. Run prophet with weekly_seasonality=True to override this.\n",
      "INFO:fbprophet:Disabling daily seasonality. Run prophet with daily_seasonality=True to override this.\n"
     ]
    },
    {
     "name": "stdout",
     "output_type": "stream",
     "text": [
      "iteration=6\n"
     ]
    },
    {
     "name": "stderr",
     "output_type": "stream",
     "text": [
      "INFO:fbprophet:Making 5 forecasts with cutoffs between 2013-04-02 00:00:00 and 2017-04-01 00:00:00\n",
      "100%|██████████| 5/5 [00:07<00:00,  1.52s/it]\n",
      "INFO:fbprophet:Disabling weekly seasonality. Run prophet with weekly_seasonality=True to override this.\n",
      "INFO:fbprophet:Disabling daily seasonality. Run prophet with daily_seasonality=True to override this.\n"
     ]
    },
    {
     "name": "stdout",
     "output_type": "stream",
     "text": [
      "iteration=7\n"
     ]
    },
    {
     "name": "stderr",
     "output_type": "stream",
     "text": [
      "INFO:fbprophet:Making 5 forecasts with cutoffs between 2013-04-02 00:00:00 and 2017-04-01 00:00:00\n",
      "100%|██████████| 5/5 [00:07<00:00,  1.51s/it]\n",
      "INFO:fbprophet:Disabling weekly seasonality. Run prophet with weekly_seasonality=True to override this.\n",
      "INFO:fbprophet:Disabling daily seasonality. Run prophet with daily_seasonality=True to override this.\n"
     ]
    },
    {
     "name": "stdout",
     "output_type": "stream",
     "text": [
      "iteration=8\n"
     ]
    },
    {
     "name": "stderr",
     "output_type": "stream",
     "text": [
      "INFO:fbprophet:Making 5 forecasts with cutoffs between 2013-04-02 00:00:00 and 2017-04-01 00:00:00\n",
      "100%|██████████| 5/5 [00:07<00:00,  1.44s/it]\n",
      "INFO:fbprophet:Disabling weekly seasonality. Run prophet with weekly_seasonality=True to override this.\n",
      "INFO:fbprophet:Disabling daily seasonality. Run prophet with daily_seasonality=True to override this.\n"
     ]
    },
    {
     "name": "stdout",
     "output_type": "stream",
     "text": [
      "iteration=9\n"
     ]
    },
    {
     "name": "stderr",
     "output_type": "stream",
     "text": [
      "INFO:fbprophet:Making 5 forecasts with cutoffs between 2013-04-02 00:00:00 and 2017-04-01 00:00:00\n",
      "100%|██████████| 5/5 [00:07<00:00,  1.51s/it]\n",
      "INFO:fbprophet:Disabling weekly seasonality. Run prophet with weekly_seasonality=True to override this.\n",
      "INFO:fbprophet:Disabling daily seasonality. Run prophet with daily_seasonality=True to override this.\n"
     ]
    },
    {
     "name": "stdout",
     "output_type": "stream",
     "text": [
      "iteration=10\n"
     ]
    },
    {
     "name": "stderr",
     "output_type": "stream",
     "text": [
      "INFO:fbprophet:Making 5 forecasts with cutoffs between 2013-04-02 00:00:00 and 2017-04-01 00:00:00\n",
      "100%|██████████| 5/5 [00:07<00:00,  1.54s/it]\n",
      "INFO:fbprophet:Disabling weekly seasonality. Run prophet with weekly_seasonality=True to override this.\n",
      "INFO:fbprophet:Disabling daily seasonality. Run prophet with daily_seasonality=True to override this.\n"
     ]
    },
    {
     "name": "stdout",
     "output_type": "stream",
     "text": [
      "iteration=11\n"
     ]
    },
    {
     "name": "stderr",
     "output_type": "stream",
     "text": [
      "INFO:fbprophet:Making 5 forecasts with cutoffs between 2013-04-02 00:00:00 and 2017-04-01 00:00:00\n",
      "100%|██████████| 5/5 [00:07<00:00,  1.53s/it]\n",
      "INFO:fbprophet:Disabling weekly seasonality. Run prophet with weekly_seasonality=True to override this.\n",
      "INFO:fbprophet:Disabling daily seasonality. Run prophet with daily_seasonality=True to override this.\n"
     ]
    },
    {
     "name": "stdout",
     "output_type": "stream",
     "text": [
      "iteration=12\n"
     ]
    },
    {
     "name": "stderr",
     "output_type": "stream",
     "text": [
      "INFO:fbprophet:Making 5 forecasts with cutoffs between 2013-04-02 00:00:00 and 2017-04-01 00:00:00\n",
      "100%|██████████| 5/5 [00:08<00:00,  1.64s/it]\n",
      "INFO:fbprophet:Disabling weekly seasonality. Run prophet with weekly_seasonality=True to override this.\n",
      "INFO:fbprophet:Disabling daily seasonality. Run prophet with daily_seasonality=True to override this.\n"
     ]
    },
    {
     "name": "stdout",
     "output_type": "stream",
     "text": [
      "iteration=13\n"
     ]
    },
    {
     "name": "stderr",
     "output_type": "stream",
     "text": [
      "INFO:fbprophet:Making 5 forecasts with cutoffs between 2013-04-02 00:00:00 and 2017-04-01 00:00:00\n",
      "100%|██████████| 5/5 [00:08<00:00,  1.61s/it]\n",
      "INFO:fbprophet:Disabling weekly seasonality. Run prophet with weekly_seasonality=True to override this.\n",
      "INFO:fbprophet:Disabling daily seasonality. Run prophet with daily_seasonality=True to override this.\n"
     ]
    },
    {
     "name": "stdout",
     "output_type": "stream",
     "text": [
      "iteration=14\n"
     ]
    },
    {
     "name": "stderr",
     "output_type": "stream",
     "text": [
      "INFO:fbprophet:Making 5 forecasts with cutoffs between 2013-04-02 00:00:00 and 2017-04-01 00:00:00\n",
      "100%|██████████| 5/5 [00:07<00:00,  1.55s/it]\n",
      "INFO:fbprophet:Disabling weekly seasonality. Run prophet with weekly_seasonality=True to override this.\n",
      "INFO:fbprophet:Disabling daily seasonality. Run prophet with daily_seasonality=True to override this.\n"
     ]
    },
    {
     "name": "stdout",
     "output_type": "stream",
     "text": [
      "iteration=15\n"
     ]
    },
    {
     "name": "stderr",
     "output_type": "stream",
     "text": [
      "INFO:fbprophet:Making 5 forecasts with cutoffs between 2013-04-02 00:00:00 and 2017-04-01 00:00:00\n",
      "100%|██████████| 5/5 [00:07<00:00,  1.56s/it]\n",
      "INFO:fbprophet:Disabling weekly seasonality. Run prophet with weekly_seasonality=True to override this.\n",
      "INFO:fbprophet:Disabling daily seasonality. Run prophet with daily_seasonality=True to override this.\n"
     ]
    },
    {
     "name": "stdout",
     "output_type": "stream",
     "text": [
      "iteration=16\n"
     ]
    },
    {
     "name": "stderr",
     "output_type": "stream",
     "text": [
      "INFO:fbprophet:Making 5 forecasts with cutoffs between 2013-04-02 00:00:00 and 2017-04-01 00:00:00\n",
      "100%|██████████| 5/5 [00:07<00:00,  1.53s/it]\n",
      "INFO:fbprophet:Disabling weekly seasonality. Run prophet with weekly_seasonality=True to override this.\n",
      "INFO:fbprophet:Disabling daily seasonality. Run prophet with daily_seasonality=True to override this.\n"
     ]
    },
    {
     "name": "stdout",
     "output_type": "stream",
     "text": [
      "iteration=17\n"
     ]
    },
    {
     "name": "stderr",
     "output_type": "stream",
     "text": [
      "INFO:fbprophet:Making 5 forecasts with cutoffs between 2013-04-02 00:00:00 and 2017-04-01 00:00:00\n",
      "100%|██████████| 5/5 [00:07<00:00,  1.49s/it]\n",
      "INFO:fbprophet:Disabling weekly seasonality. Run prophet with weekly_seasonality=True to override this.\n",
      "INFO:fbprophet:Disabling daily seasonality. Run prophet with daily_seasonality=True to override this.\n"
     ]
    },
    {
     "name": "stdout",
     "output_type": "stream",
     "text": [
      "iteration=18\n"
     ]
    },
    {
     "name": "stderr",
     "output_type": "stream",
     "text": [
      "INFO:fbprophet:Making 5 forecasts with cutoffs between 2013-04-02 00:00:00 and 2017-04-01 00:00:00\n",
      "100%|██████████| 5/5 [00:07<00:00,  1.51s/it]\n",
      "INFO:fbprophet:Disabling weekly seasonality. Run prophet with weekly_seasonality=True to override this.\n",
      "INFO:fbprophet:Disabling daily seasonality. Run prophet with daily_seasonality=True to override this.\n"
     ]
    },
    {
     "name": "stdout",
     "output_type": "stream",
     "text": [
      "iteration=19\n"
     ]
    },
    {
     "name": "stderr",
     "output_type": "stream",
     "text": [
      "INFO:fbprophet:Making 5 forecasts with cutoffs between 2013-04-02 00:00:00 and 2017-04-01 00:00:00\n",
      "100%|██████████| 5/5 [00:07<00:00,  1.52s/it]\n",
      "INFO:fbprophet:Disabling weekly seasonality. Run prophet with weekly_seasonality=True to override this.\n",
      "INFO:fbprophet:Disabling daily seasonality. Run prophet with daily_seasonality=True to override this.\n"
     ]
    },
    {
     "name": "stdout",
     "output_type": "stream",
     "text": [
      "iteration=20\n"
     ]
    },
    {
     "name": "stderr",
     "output_type": "stream",
     "text": [
      "INFO:fbprophet:Making 5 forecasts with cutoffs between 2013-04-02 00:00:00 and 2017-04-01 00:00:00\n",
      "100%|██████████| 5/5 [00:07<00:00,  1.50s/it]\n",
      "INFO:fbprophet:Disabling weekly seasonality. Run prophet with weekly_seasonality=True to override this.\n",
      "INFO:fbprophet:Disabling daily seasonality. Run prophet with daily_seasonality=True to override this.\n"
     ]
    },
    {
     "name": "stdout",
     "output_type": "stream",
     "text": [
      "iteration=21\n"
     ]
    },
    {
     "name": "stderr",
     "output_type": "stream",
     "text": [
      "INFO:fbprophet:Making 5 forecasts with cutoffs between 2013-04-02 00:00:00 and 2017-04-01 00:00:00\n",
      "100%|██████████| 5/5 [00:07<00:00,  1.51s/it]\n",
      "INFO:fbprophet:Disabling weekly seasonality. Run prophet with weekly_seasonality=True to override this.\n",
      "INFO:fbprophet:Disabling daily seasonality. Run prophet with daily_seasonality=True to override this.\n"
     ]
    },
    {
     "name": "stdout",
     "output_type": "stream",
     "text": [
      "iteration=22\n"
     ]
    },
    {
     "name": "stderr",
     "output_type": "stream",
     "text": [
      "INFO:fbprophet:Making 5 forecasts with cutoffs between 2013-04-02 00:00:00 and 2017-04-01 00:00:00\n",
      "100%|██████████| 5/5 [00:07<00:00,  1.52s/it]\n",
      "INFO:fbprophet:Disabling weekly seasonality. Run prophet with weekly_seasonality=True to override this.\n",
      "INFO:fbprophet:Disabling daily seasonality. Run prophet with daily_seasonality=True to override this.\n"
     ]
    },
    {
     "name": "stdout",
     "output_type": "stream",
     "text": [
      "iteration=23\n"
     ]
    },
    {
     "name": "stderr",
     "output_type": "stream",
     "text": [
      "INFO:fbprophet:Making 5 forecasts with cutoffs between 2013-04-02 00:00:00 and 2017-04-01 00:00:00\n",
      "100%|██████████| 5/5 [00:07<00:00,  1.54s/it]\n",
      "INFO:fbprophet:Disabling weekly seasonality. Run prophet with weekly_seasonality=True to override this.\n",
      "INFO:fbprophet:Disabling daily seasonality. Run prophet with daily_seasonality=True to override this.\n"
     ]
    },
    {
     "name": "stdout",
     "output_type": "stream",
     "text": [
      "iteration=24\n"
     ]
    },
    {
     "name": "stderr",
     "output_type": "stream",
     "text": [
      "INFO:fbprophet:Making 5 forecasts with cutoffs between 2013-04-02 00:00:00 and 2017-04-01 00:00:00\n",
      "100%|██████████| 5/5 [00:07<00:00,  1.52s/it]\n",
      "INFO:fbprophet:Disabling weekly seasonality. Run prophet with weekly_seasonality=True to override this.\n",
      "INFO:fbprophet:Disabling daily seasonality. Run prophet with daily_seasonality=True to override this.\n"
     ]
    },
    {
     "name": "stdout",
     "output_type": "stream",
     "text": [
      "iteration=25\n"
     ]
    },
    {
     "name": "stderr",
     "output_type": "stream",
     "text": [
      "INFO:fbprophet:Making 5 forecasts with cutoffs between 2013-04-02 00:00:00 and 2017-04-01 00:00:00\n",
      "100%|██████████| 5/5 [00:08<00:00,  1.69s/it]\n",
      "INFO:fbprophet:Disabling weekly seasonality. Run prophet with weekly_seasonality=True to override this.\n",
      "INFO:fbprophet:Disabling daily seasonality. Run prophet with daily_seasonality=True to override this.\n"
     ]
    },
    {
     "name": "stdout",
     "output_type": "stream",
     "text": [
      "iteration=26\n"
     ]
    },
    {
     "name": "stderr",
     "output_type": "stream",
     "text": [
      "INFO:fbprophet:Making 5 forecasts with cutoffs between 2013-04-02 00:00:00 and 2017-04-01 00:00:00\n",
      "100%|██████████| 5/5 [00:08<00:00,  1.70s/it]\n",
      "INFO:fbprophet:Disabling weekly seasonality. Run prophet with weekly_seasonality=True to override this.\n",
      "INFO:fbprophet:Disabling daily seasonality. Run prophet with daily_seasonality=True to override this.\n"
     ]
    },
    {
     "name": "stdout",
     "output_type": "stream",
     "text": [
      "iteration=27\n"
     ]
    },
    {
     "name": "stderr",
     "output_type": "stream",
     "text": [
      "INFO:fbprophet:Making 5 forecasts with cutoffs between 2013-04-02 00:00:00 and 2017-04-01 00:00:00\n",
      "100%|██████████| 5/5 [00:08<00:00,  1.61s/it]\n",
      "INFO:fbprophet:Disabling weekly seasonality. Run prophet with weekly_seasonality=True to override this.\n",
      "INFO:fbprophet:Disabling daily seasonality. Run prophet with daily_seasonality=True to override this.\n"
     ]
    },
    {
     "name": "stdout",
     "output_type": "stream",
     "text": [
      "iteration=28\n"
     ]
    },
    {
     "name": "stderr",
     "output_type": "stream",
     "text": [
      "INFO:fbprophet:Making 5 forecasts with cutoffs between 2013-04-02 00:00:00 and 2017-04-01 00:00:00\n",
      "100%|██████████| 5/5 [00:07<00:00,  1.50s/it]\n",
      "INFO:fbprophet:Disabling weekly seasonality. Run prophet with weekly_seasonality=True to override this.\n",
      "INFO:fbprophet:Disabling daily seasonality. Run prophet with daily_seasonality=True to override this.\n"
     ]
    },
    {
     "name": "stdout",
     "output_type": "stream",
     "text": [
      "iteration=29\n"
     ]
    },
    {
     "name": "stderr",
     "output_type": "stream",
     "text": [
      "INFO:fbprophet:Making 5 forecasts with cutoffs between 2013-04-02 00:00:00 and 2017-04-01 00:00:00\n",
      "100%|██████████| 5/5 [00:07<00:00,  1.48s/it]\n",
      "INFO:fbprophet:Disabling weekly seasonality. Run prophet with weekly_seasonality=True to override this.\n",
      "INFO:fbprophet:Disabling daily seasonality. Run prophet with daily_seasonality=True to override this.\n"
     ]
    },
    {
     "name": "stdout",
     "output_type": "stream",
     "text": [
      "iteration=30\n"
     ]
    },
    {
     "name": "stderr",
     "output_type": "stream",
     "text": [
      "INFO:fbprophet:Making 5 forecasts with cutoffs between 2013-04-02 00:00:00 and 2017-04-01 00:00:00\n",
      "100%|██████████| 5/5 [00:06<00:00,  1.35s/it]\n",
      "INFO:fbprophet:Disabling weekly seasonality. Run prophet with weekly_seasonality=True to override this.\n",
      "INFO:fbprophet:Disabling daily seasonality. Run prophet with daily_seasonality=True to override this.\n"
     ]
    },
    {
     "name": "stdout",
     "output_type": "stream",
     "text": [
      "iteration=31\n"
     ]
    },
    {
     "name": "stderr",
     "output_type": "stream",
     "text": [
      "INFO:fbprophet:Making 5 forecasts with cutoffs between 2013-04-02 00:00:00 and 2017-04-01 00:00:00\n",
      "100%|██████████| 5/5 [00:06<00:00,  1.37s/it]\n",
      "INFO:fbprophet:Disabling weekly seasonality. Run prophet with weekly_seasonality=True to override this.\n",
      "INFO:fbprophet:Disabling daily seasonality. Run prophet with daily_seasonality=True to override this.\n"
     ]
    },
    {
     "name": "stdout",
     "output_type": "stream",
     "text": [
      "iteration=32\n"
     ]
    },
    {
     "name": "stderr",
     "output_type": "stream",
     "text": [
      "INFO:fbprophet:Making 5 forecasts with cutoffs between 2013-04-02 00:00:00 and 2017-04-01 00:00:00\n",
      "100%|██████████| 5/5 [00:06<00:00,  1.36s/it]\n",
      "INFO:fbprophet:Disabling weekly seasonality. Run prophet with weekly_seasonality=True to override this.\n",
      "INFO:fbprophet:Disabling daily seasonality. Run prophet with daily_seasonality=True to override this.\n"
     ]
    },
    {
     "name": "stdout",
     "output_type": "stream",
     "text": [
      "iteration=33\n"
     ]
    },
    {
     "name": "stderr",
     "output_type": "stream",
     "text": [
      "INFO:fbprophet:Making 5 forecasts with cutoffs between 2013-04-02 00:00:00 and 2017-04-01 00:00:00\n",
      "100%|██████████| 5/5 [00:06<00:00,  1.34s/it]\n",
      "INFO:fbprophet:Disabling weekly seasonality. Run prophet with weekly_seasonality=True to override this.\n",
      "INFO:fbprophet:Disabling daily seasonality. Run prophet with daily_seasonality=True to override this.\n"
     ]
    },
    {
     "name": "stdout",
     "output_type": "stream",
     "text": [
      "iteration=34\n"
     ]
    },
    {
     "name": "stderr",
     "output_type": "stream",
     "text": [
      "INFO:fbprophet:Making 5 forecasts with cutoffs between 2013-04-02 00:00:00 and 2017-04-01 00:00:00\n",
      "100%|██████████| 5/5 [00:06<00:00,  1.35s/it]\n",
      "INFO:fbprophet:Disabling weekly seasonality. Run prophet with weekly_seasonality=True to override this.\n",
      "INFO:fbprophet:Disabling daily seasonality. Run prophet with daily_seasonality=True to override this.\n"
     ]
    },
    {
     "name": "stdout",
     "output_type": "stream",
     "text": [
      "iteration=35\n"
     ]
    },
    {
     "name": "stderr",
     "output_type": "stream",
     "text": [
      "INFO:fbprophet:Making 5 forecasts with cutoffs between 2013-04-02 00:00:00 and 2017-04-01 00:00:00\n",
      "100%|██████████| 5/5 [00:06<00:00,  1.35s/it]\n",
      "INFO:fbprophet:Disabling weekly seasonality. Run prophet with weekly_seasonality=True to override this.\n",
      "INFO:fbprophet:Disabling daily seasonality. Run prophet with daily_seasonality=True to override this.\n"
     ]
    },
    {
     "name": "stdout",
     "output_type": "stream",
     "text": [
      "iteration=36\n"
     ]
    },
    {
     "name": "stderr",
     "output_type": "stream",
     "text": [
      "INFO:fbprophet:Making 5 forecasts with cutoffs between 2013-04-02 00:00:00 and 2017-04-01 00:00:00\n",
      "100%|██████████| 5/5 [00:06<00:00,  1.32s/it]\n",
      "INFO:fbprophet:Disabling weekly seasonality. Run prophet with weekly_seasonality=True to override this.\n",
      "INFO:fbprophet:Disabling daily seasonality. Run prophet with daily_seasonality=True to override this.\n"
     ]
    },
    {
     "name": "stdout",
     "output_type": "stream",
     "text": [
      "iteration=37\n"
     ]
    },
    {
     "name": "stderr",
     "output_type": "stream",
     "text": [
      "INFO:fbprophet:Making 5 forecasts with cutoffs between 2013-04-02 00:00:00 and 2017-04-01 00:00:00\n",
      "100%|██████████| 5/5 [00:06<00:00,  1.38s/it]\n",
      "INFO:fbprophet:Disabling weekly seasonality. Run prophet with weekly_seasonality=True to override this.\n",
      "INFO:fbprophet:Disabling daily seasonality. Run prophet with daily_seasonality=True to override this.\n"
     ]
    },
    {
     "name": "stdout",
     "output_type": "stream",
     "text": [
      "iteration=38\n"
     ]
    },
    {
     "name": "stderr",
     "output_type": "stream",
     "text": [
      "INFO:fbprophet:Making 5 forecasts with cutoffs between 2013-04-02 00:00:00 and 2017-04-01 00:00:00\n",
      "100%|██████████| 5/5 [00:06<00:00,  1.38s/it]\n",
      "INFO:fbprophet:Disabling weekly seasonality. Run prophet with weekly_seasonality=True to override this.\n",
      "INFO:fbprophet:Disabling daily seasonality. Run prophet with daily_seasonality=True to override this.\n"
     ]
    },
    {
     "name": "stdout",
     "output_type": "stream",
     "text": [
      "iteration=39\n"
     ]
    },
    {
     "name": "stderr",
     "output_type": "stream",
     "text": [
      "INFO:fbprophet:Making 5 forecasts with cutoffs between 2013-04-02 00:00:00 and 2017-04-01 00:00:00\n",
      "100%|██████████| 5/5 [00:07<00:00,  1.41s/it]\n",
      "INFO:fbprophet:Disabling weekly seasonality. Run prophet with weekly_seasonality=True to override this.\n",
      "INFO:fbprophet:Disabling daily seasonality. Run prophet with daily_seasonality=True to override this.\n"
     ]
    },
    {
     "name": "stdout",
     "output_type": "stream",
     "text": [
      "iteration=40\n"
     ]
    },
    {
     "name": "stderr",
     "output_type": "stream",
     "text": [
      "INFO:fbprophet:Making 5 forecasts with cutoffs between 2013-04-02 00:00:00 and 2017-04-01 00:00:00\n",
      "100%|██████████| 5/5 [00:06<00:00,  1.39s/it]\n",
      "INFO:fbprophet:Disabling weekly seasonality. Run prophet with weekly_seasonality=True to override this.\n",
      "INFO:fbprophet:Disabling daily seasonality. Run prophet with daily_seasonality=True to override this.\n"
     ]
    },
    {
     "name": "stdout",
     "output_type": "stream",
     "text": [
      "iteration=41\n"
     ]
    },
    {
     "name": "stderr",
     "output_type": "stream",
     "text": [
      "INFO:fbprophet:Making 5 forecasts with cutoffs between 2013-04-02 00:00:00 and 2017-04-01 00:00:00\n",
      "100%|██████████| 5/5 [00:06<00:00,  1.37s/it]\n",
      "INFO:fbprophet:Disabling weekly seasonality. Run prophet with weekly_seasonality=True to override this.\n",
      "INFO:fbprophet:Disabling daily seasonality. Run prophet with daily_seasonality=True to override this.\n"
     ]
    },
    {
     "name": "stdout",
     "output_type": "stream",
     "text": [
      "iteration=42\n"
     ]
    },
    {
     "name": "stderr",
     "output_type": "stream",
     "text": [
      "INFO:fbprophet:Making 5 forecasts with cutoffs between 2013-04-02 00:00:00 and 2017-04-01 00:00:00\n",
      "100%|██████████| 5/5 [00:06<00:00,  1.35s/it]\n",
      "INFO:fbprophet:Disabling weekly seasonality. Run prophet with weekly_seasonality=True to override this.\n",
      "INFO:fbprophet:Disabling daily seasonality. Run prophet with daily_seasonality=True to override this.\n"
     ]
    },
    {
     "name": "stdout",
     "output_type": "stream",
     "text": [
      "iteration=43\n"
     ]
    },
    {
     "name": "stderr",
     "output_type": "stream",
     "text": [
      "INFO:fbprophet:Making 5 forecasts with cutoffs between 2013-04-02 00:00:00 and 2017-04-01 00:00:00\n",
      "100%|██████████| 5/5 [00:06<00:00,  1.36s/it]\n",
      "INFO:fbprophet:Disabling weekly seasonality. Run prophet with weekly_seasonality=True to override this.\n",
      "INFO:fbprophet:Disabling daily seasonality. Run prophet with daily_seasonality=True to override this.\n"
     ]
    },
    {
     "name": "stdout",
     "output_type": "stream",
     "text": [
      "iteration=44\n"
     ]
    },
    {
     "name": "stderr",
     "output_type": "stream",
     "text": [
      "INFO:fbprophet:Making 5 forecasts with cutoffs between 2013-04-02 00:00:00 and 2017-04-01 00:00:00\n",
      "100%|██████████| 5/5 [00:06<00:00,  1.36s/it]\n",
      "INFO:fbprophet:Disabling weekly seasonality. Run prophet with weekly_seasonality=True to override this.\n",
      "INFO:fbprophet:Disabling daily seasonality. Run prophet with daily_seasonality=True to override this.\n"
     ]
    },
    {
     "name": "stdout",
     "output_type": "stream",
     "text": [
      "iteration=45\n"
     ]
    },
    {
     "name": "stderr",
     "output_type": "stream",
     "text": [
      "INFO:fbprophet:Making 5 forecasts with cutoffs between 2013-04-02 00:00:00 and 2017-04-01 00:00:00\n",
      "100%|██████████| 5/5 [00:06<00:00,  1.34s/it]\n",
      "INFO:fbprophet:Disabling weekly seasonality. Run prophet with weekly_seasonality=True to override this.\n",
      "INFO:fbprophet:Disabling daily seasonality. Run prophet with daily_seasonality=True to override this.\n"
     ]
    },
    {
     "name": "stdout",
     "output_type": "stream",
     "text": [
      "iteration=46\n"
     ]
    },
    {
     "name": "stderr",
     "output_type": "stream",
     "text": [
      "INFO:fbprophet:Making 5 forecasts with cutoffs between 2013-04-02 00:00:00 and 2017-04-01 00:00:00\n",
      "100%|██████████| 5/5 [00:07<00:00,  1.56s/it]\n",
      "INFO:fbprophet:Disabling weekly seasonality. Run prophet with weekly_seasonality=True to override this.\n",
      "INFO:fbprophet:Disabling daily seasonality. Run prophet with daily_seasonality=True to override this.\n"
     ]
    },
    {
     "name": "stdout",
     "output_type": "stream",
     "text": [
      "iteration=47\n"
     ]
    },
    {
     "name": "stderr",
     "output_type": "stream",
     "text": [
      "INFO:fbprophet:Making 5 forecasts with cutoffs between 2013-04-02 00:00:00 and 2017-04-01 00:00:00\n",
      "100%|██████████| 5/5 [00:07<00:00,  1.48s/it]\n",
      "INFO:fbprophet:Disabling weekly seasonality. Run prophet with weekly_seasonality=True to override this.\n",
      "INFO:fbprophet:Disabling daily seasonality. Run prophet with daily_seasonality=True to override this.\n"
     ]
    },
    {
     "name": "stdout",
     "output_type": "stream",
     "text": [
      "iteration=48\n"
     ]
    },
    {
     "name": "stderr",
     "output_type": "stream",
     "text": [
      "INFO:fbprophet:Making 5 forecasts with cutoffs between 2013-04-02 00:00:00 and 2017-04-01 00:00:00\n",
      "100%|██████████| 5/5 [00:06<00:00,  1.32s/it]\n",
      "INFO:fbprophet:Disabling weekly seasonality. Run prophet with weekly_seasonality=True to override this.\n",
      "INFO:fbprophet:Disabling daily seasonality. Run prophet with daily_seasonality=True to override this.\n"
     ]
    },
    {
     "name": "stdout",
     "output_type": "stream",
     "text": [
      "iteration=49\n"
     ]
    },
    {
     "name": "stderr",
     "output_type": "stream",
     "text": [
      "INFO:fbprophet:Making 5 forecasts with cutoffs between 2013-04-02 00:00:00 and 2017-04-01 00:00:00\n",
      "100%|██████████| 5/5 [00:06<00:00,  1.34s/it]\n",
      "INFO:fbprophet:Disabling weekly seasonality. Run prophet with weekly_seasonality=True to override this.\n",
      "INFO:fbprophet:Disabling daily seasonality. Run prophet with daily_seasonality=True to override this.\n"
     ]
    },
    {
     "name": "stdout",
     "output_type": "stream",
     "text": [
      "iteration=50\n"
     ]
    },
    {
     "name": "stderr",
     "output_type": "stream",
     "text": [
      "INFO:fbprophet:Making 5 forecasts with cutoffs between 2013-04-02 00:00:00 and 2017-04-01 00:00:00\n",
      "100%|██████████| 5/5 [00:06<00:00,  1.35s/it]\n",
      "INFO:fbprophet:Disabling weekly seasonality. Run prophet with weekly_seasonality=True to override this.\n",
      "INFO:fbprophet:Disabling daily seasonality. Run prophet with daily_seasonality=True to override this.\n"
     ]
    },
    {
     "name": "stdout",
     "output_type": "stream",
     "text": [
      "iteration=51\n"
     ]
    },
    {
     "name": "stderr",
     "output_type": "stream",
     "text": [
      "INFO:fbprophet:Making 5 forecasts with cutoffs between 2013-04-02 00:00:00 and 2017-04-01 00:00:00\n",
      "100%|██████████| 5/5 [00:06<00:00,  1.37s/it]\n",
      "INFO:fbprophet:Disabling weekly seasonality. Run prophet with weekly_seasonality=True to override this.\n",
      "INFO:fbprophet:Disabling daily seasonality. Run prophet with daily_seasonality=True to override this.\n"
     ]
    },
    {
     "name": "stdout",
     "output_type": "stream",
     "text": [
      "iteration=52\n"
     ]
    },
    {
     "name": "stderr",
     "output_type": "stream",
     "text": [
      "INFO:fbprophet:Making 5 forecasts with cutoffs between 2013-04-02 00:00:00 and 2017-04-01 00:00:00\n",
      "100%|██████████| 5/5 [00:06<00:00,  1.34s/it]\n",
      "INFO:fbprophet:Disabling weekly seasonality. Run prophet with weekly_seasonality=True to override this.\n",
      "INFO:fbprophet:Disabling daily seasonality. Run prophet with daily_seasonality=True to override this.\n"
     ]
    },
    {
     "name": "stdout",
     "output_type": "stream",
     "text": [
      "iteration=53\n"
     ]
    },
    {
     "name": "stderr",
     "output_type": "stream",
     "text": [
      "INFO:fbprophet:Making 5 forecasts with cutoffs between 2013-04-02 00:00:00 and 2017-04-01 00:00:00\n",
      "100%|██████████| 5/5 [00:06<00:00,  1.37s/it]\n",
      "INFO:fbprophet:Disabling weekly seasonality. Run prophet with weekly_seasonality=True to override this.\n",
      "INFO:fbprophet:Disabling daily seasonality. Run prophet with daily_seasonality=True to override this.\n"
     ]
    },
    {
     "name": "stdout",
     "output_type": "stream",
     "text": [
      "iteration=54\n"
     ]
    },
    {
     "name": "stderr",
     "output_type": "stream",
     "text": [
      "INFO:fbprophet:Making 5 forecasts with cutoffs between 2013-04-02 00:00:00 and 2017-04-01 00:00:00\n",
      "100%|██████████| 5/5 [00:06<00:00,  1.34s/it]\n",
      "INFO:fbprophet:Disabling weekly seasonality. Run prophet with weekly_seasonality=True to override this.\n",
      "INFO:fbprophet:Disabling daily seasonality. Run prophet with daily_seasonality=True to override this.\n"
     ]
    },
    {
     "name": "stdout",
     "output_type": "stream",
     "text": [
      "iteration=55\n"
     ]
    },
    {
     "name": "stderr",
     "output_type": "stream",
     "text": [
      "INFO:fbprophet:Making 5 forecasts with cutoffs between 2013-04-02 00:00:00 and 2017-04-01 00:00:00\n",
      "100%|██████████| 5/5 [00:06<00:00,  1.35s/it]\n",
      "INFO:fbprophet:Disabling weekly seasonality. Run prophet with weekly_seasonality=True to override this.\n",
      "INFO:fbprophet:Disabling daily seasonality. Run prophet with daily_seasonality=True to override this.\n"
     ]
    },
    {
     "name": "stdout",
     "output_type": "stream",
     "text": [
      "iteration=56\n"
     ]
    },
    {
     "name": "stderr",
     "output_type": "stream",
     "text": [
      "INFO:fbprophet:Making 5 forecasts with cutoffs between 2013-04-02 00:00:00 and 2017-04-01 00:00:00\n",
      "100%|██████████| 5/5 [00:06<00:00,  1.34s/it]\n",
      "INFO:fbprophet:Disabling weekly seasonality. Run prophet with weekly_seasonality=True to override this.\n",
      "INFO:fbprophet:Disabling daily seasonality. Run prophet with daily_seasonality=True to override this.\n"
     ]
    },
    {
     "name": "stdout",
     "output_type": "stream",
     "text": [
      "iteration=57\n"
     ]
    },
    {
     "name": "stderr",
     "output_type": "stream",
     "text": [
      "INFO:fbprophet:Making 5 forecasts with cutoffs between 2013-04-02 00:00:00 and 2017-04-01 00:00:00\n",
      "100%|██████████| 5/5 [00:06<00:00,  1.34s/it]\n",
      "INFO:fbprophet:Disabling weekly seasonality. Run prophet with weekly_seasonality=True to override this.\n",
      "INFO:fbprophet:Disabling daily seasonality. Run prophet with daily_seasonality=True to override this.\n"
     ]
    },
    {
     "name": "stdout",
     "output_type": "stream",
     "text": [
      "iteration=58\n"
     ]
    },
    {
     "name": "stderr",
     "output_type": "stream",
     "text": [
      "INFO:fbprophet:Making 5 forecasts with cutoffs between 2013-04-02 00:00:00 and 2017-04-01 00:00:00\n",
      "100%|██████████| 5/5 [00:06<00:00,  1.36s/it]\n",
      "INFO:fbprophet:Disabling weekly seasonality. Run prophet with weekly_seasonality=True to override this.\n",
      "INFO:fbprophet:Disabling daily seasonality. Run prophet with daily_seasonality=True to override this.\n"
     ]
    },
    {
     "name": "stdout",
     "output_type": "stream",
     "text": [
      "iteration=59\n"
     ]
    },
    {
     "name": "stderr",
     "output_type": "stream",
     "text": [
      "INFO:fbprophet:Making 5 forecasts with cutoffs between 2013-04-02 00:00:00 and 2017-04-01 00:00:00\n",
      "100%|██████████| 5/5 [00:06<00:00,  1.35s/it]\n",
      "INFO:fbprophet:Disabling weekly seasonality. Run prophet with weekly_seasonality=True to override this.\n",
      "INFO:fbprophet:Disabling daily seasonality. Run prophet with daily_seasonality=True to override this.\n"
     ]
    },
    {
     "name": "stdout",
     "output_type": "stream",
     "text": [
      "iteration=60\n"
     ]
    },
    {
     "name": "stderr",
     "output_type": "stream",
     "text": [
      "INFO:fbprophet:Making 5 forecasts with cutoffs between 2013-04-02 00:00:00 and 2017-04-01 00:00:00\n",
      "100%|██████████| 5/5 [00:07<00:00,  1.48s/it]\n",
      "INFO:fbprophet:Disabling weekly seasonality. Run prophet with weekly_seasonality=True to override this.\n",
      "INFO:fbprophet:Disabling daily seasonality. Run prophet with daily_seasonality=True to override this.\n"
     ]
    },
    {
     "name": "stdout",
     "output_type": "stream",
     "text": [
      "iteration=61\n"
     ]
    },
    {
     "name": "stderr",
     "output_type": "stream",
     "text": [
      "INFO:fbprophet:Making 5 forecasts with cutoffs between 2013-04-02 00:00:00 and 2017-04-01 00:00:00\n",
      "100%|██████████| 5/5 [00:06<00:00,  1.33s/it]\n",
      "INFO:fbprophet:Disabling weekly seasonality. Run prophet with weekly_seasonality=True to override this.\n",
      "INFO:fbprophet:Disabling daily seasonality. Run prophet with daily_seasonality=True to override this.\n"
     ]
    },
    {
     "name": "stdout",
     "output_type": "stream",
     "text": [
      "iteration=62\n"
     ]
    },
    {
     "name": "stderr",
     "output_type": "stream",
     "text": [
      "INFO:fbprophet:Making 5 forecasts with cutoffs between 2013-04-02 00:00:00 and 2017-04-01 00:00:00\n",
      "100%|██████████| 5/5 [00:06<00:00,  1.30s/it]\n",
      "INFO:fbprophet:Disabling weekly seasonality. Run prophet with weekly_seasonality=True to override this.\n",
      "INFO:fbprophet:Disabling daily seasonality. Run prophet with daily_seasonality=True to override this.\n"
     ]
    },
    {
     "name": "stdout",
     "output_type": "stream",
     "text": [
      "iteration=63\n"
     ]
    },
    {
     "name": "stderr",
     "output_type": "stream",
     "text": [
      "INFO:fbprophet:Making 5 forecasts with cutoffs between 2013-04-02 00:00:00 and 2017-04-01 00:00:00\n",
      "100%|██████████| 5/5 [00:06<00:00,  1.34s/it]\n",
      "INFO:fbprophet:Disabling weekly seasonality. Run prophet with weekly_seasonality=True to override this.\n",
      "INFO:fbprophet:Disabling daily seasonality. Run prophet with daily_seasonality=True to override this.\n"
     ]
    },
    {
     "name": "stdout",
     "output_type": "stream",
     "text": [
      "iteration=64\n"
     ]
    },
    {
     "name": "stderr",
     "output_type": "stream",
     "text": [
      "INFO:fbprophet:Making 5 forecasts with cutoffs between 2013-04-02 00:00:00 and 2017-04-01 00:00:00\n",
      "100%|██████████| 5/5 [00:06<00:00,  1.33s/it]\n",
      "INFO:fbprophet:Disabling weekly seasonality. Run prophet with weekly_seasonality=True to override this.\n",
      "INFO:fbprophet:Disabling daily seasonality. Run prophet with daily_seasonality=True to override this.\n"
     ]
    },
    {
     "name": "stdout",
     "output_type": "stream",
     "text": [
      "iteration=65\n"
     ]
    },
    {
     "name": "stderr",
     "output_type": "stream",
     "text": [
      "INFO:fbprophet:Making 5 forecasts with cutoffs between 2013-04-02 00:00:00 and 2017-04-01 00:00:00\n",
      "100%|██████████| 5/5 [00:06<00:00,  1.34s/it]\n",
      "INFO:fbprophet:Disabling weekly seasonality. Run prophet with weekly_seasonality=True to override this.\n",
      "INFO:fbprophet:Disabling daily seasonality. Run prophet with daily_seasonality=True to override this.\n"
     ]
    },
    {
     "name": "stdout",
     "output_type": "stream",
     "text": [
      "iteration=66\n"
     ]
    },
    {
     "name": "stderr",
     "output_type": "stream",
     "text": [
      "INFO:fbprophet:Making 5 forecasts with cutoffs between 2013-04-02 00:00:00 and 2017-04-01 00:00:00\n",
      "100%|██████████| 5/5 [00:06<00:00,  1.32s/it]\n",
      "INFO:fbprophet:Disabling weekly seasonality. Run prophet with weekly_seasonality=True to override this.\n",
      "INFO:fbprophet:Disabling daily seasonality. Run prophet with daily_seasonality=True to override this.\n"
     ]
    },
    {
     "name": "stdout",
     "output_type": "stream",
     "text": [
      "iteration=67\n"
     ]
    },
    {
     "name": "stderr",
     "output_type": "stream",
     "text": [
      "INFO:fbprophet:Making 5 forecasts with cutoffs between 2013-04-02 00:00:00 and 2017-04-01 00:00:00\n",
      "100%|██████████| 5/5 [00:06<00:00,  1.31s/it]\n",
      "INFO:fbprophet:Disabling weekly seasonality. Run prophet with weekly_seasonality=True to override this.\n",
      "INFO:fbprophet:Disabling daily seasonality. Run prophet with daily_seasonality=True to override this.\n"
     ]
    },
    {
     "name": "stdout",
     "output_type": "stream",
     "text": [
      "iteration=68\n"
     ]
    },
    {
     "name": "stderr",
     "output_type": "stream",
     "text": [
      "INFO:fbprophet:Making 5 forecasts with cutoffs between 2013-04-02 00:00:00 and 2017-04-01 00:00:00\n",
      "100%|██████████| 5/5 [00:06<00:00,  1.32s/it]\n",
      "INFO:fbprophet:Disabling weekly seasonality. Run prophet with weekly_seasonality=True to override this.\n",
      "INFO:fbprophet:Disabling daily seasonality. Run prophet with daily_seasonality=True to override this.\n"
     ]
    },
    {
     "name": "stdout",
     "output_type": "stream",
     "text": [
      "iteration=69\n"
     ]
    },
    {
     "name": "stderr",
     "output_type": "stream",
     "text": [
      "INFO:fbprophet:Making 5 forecasts with cutoffs between 2013-04-02 00:00:00 and 2017-04-01 00:00:00\n",
      "100%|██████████| 5/5 [00:06<00:00,  1.36s/it]\n",
      "INFO:fbprophet:Disabling weekly seasonality. Run prophet with weekly_seasonality=True to override this.\n",
      "INFO:fbprophet:Disabling daily seasonality. Run prophet with daily_seasonality=True to override this.\n"
     ]
    },
    {
     "name": "stdout",
     "output_type": "stream",
     "text": [
      "iteration=70\n"
     ]
    },
    {
     "name": "stderr",
     "output_type": "stream",
     "text": [
      "INFO:fbprophet:Making 5 forecasts with cutoffs between 2013-04-02 00:00:00 and 2017-04-01 00:00:00\n",
      "100%|██████████| 5/5 [00:06<00:00,  1.39s/it]\n",
      "INFO:fbprophet:Disabling weekly seasonality. Run prophet with weekly_seasonality=True to override this.\n",
      "INFO:fbprophet:Disabling daily seasonality. Run prophet with daily_seasonality=True to override this.\n"
     ]
    },
    {
     "name": "stdout",
     "output_type": "stream",
     "text": [
      "iteration=71\n"
     ]
    },
    {
     "name": "stderr",
     "output_type": "stream",
     "text": [
      "INFO:fbprophet:Making 5 forecasts with cutoffs between 2013-04-02 00:00:00 and 2017-04-01 00:00:00\n",
      "100%|██████████| 5/5 [00:06<00:00,  1.34s/it]\n",
      "INFO:fbprophet:Disabling weekly seasonality. Run prophet with weekly_seasonality=True to override this.\n",
      "INFO:fbprophet:Disabling daily seasonality. Run prophet with daily_seasonality=True to override this.\n"
     ]
    },
    {
     "name": "stdout",
     "output_type": "stream",
     "text": [
      "iteration=72\n"
     ]
    },
    {
     "name": "stderr",
     "output_type": "stream",
     "text": [
      "INFO:fbprophet:Making 5 forecasts with cutoffs between 2013-04-02 00:00:00 and 2017-04-01 00:00:00\n",
      "100%|██████████| 5/5 [00:06<00:00,  1.35s/it]\n",
      "INFO:fbprophet:Disabling weekly seasonality. Run prophet with weekly_seasonality=True to override this.\n",
      "INFO:fbprophet:Disabling daily seasonality. Run prophet with daily_seasonality=True to override this.\n"
     ]
    },
    {
     "name": "stdout",
     "output_type": "stream",
     "text": [
      "iteration=73\n"
     ]
    },
    {
     "name": "stderr",
     "output_type": "stream",
     "text": [
      "INFO:fbprophet:Making 5 forecasts with cutoffs between 2013-04-02 00:00:00 and 2017-04-01 00:00:00\n",
      "100%|██████████| 5/5 [00:06<00:00,  1.38s/it]\n",
      "INFO:fbprophet:Disabling weekly seasonality. Run prophet with weekly_seasonality=True to override this.\n",
      "INFO:fbprophet:Disabling daily seasonality. Run prophet with daily_seasonality=True to override this.\n"
     ]
    },
    {
     "name": "stdout",
     "output_type": "stream",
     "text": [
      "iteration=74\n"
     ]
    },
    {
     "name": "stderr",
     "output_type": "stream",
     "text": [
      "INFO:fbprophet:Making 5 forecasts with cutoffs between 2013-04-02 00:00:00 and 2017-04-01 00:00:00\n",
      "100%|██████████| 5/5 [00:06<00:00,  1.37s/it]\n",
      "INFO:fbprophet:Disabling weekly seasonality. Run prophet with weekly_seasonality=True to override this.\n",
      "INFO:fbprophet:Disabling daily seasonality. Run prophet with daily_seasonality=True to override this.\n"
     ]
    },
    {
     "name": "stdout",
     "output_type": "stream",
     "text": [
      "iteration=75\n"
     ]
    },
    {
     "name": "stderr",
     "output_type": "stream",
     "text": [
      "INFO:fbprophet:Making 5 forecasts with cutoffs between 2013-04-02 00:00:00 and 2017-04-01 00:00:00\n",
      "100%|██████████| 5/5 [00:06<00:00,  1.32s/it]\n",
      "INFO:fbprophet:Disabling weekly seasonality. Run prophet with weekly_seasonality=True to override this.\n",
      "INFO:fbprophet:Disabling daily seasonality. Run prophet with daily_seasonality=True to override this.\n"
     ]
    },
    {
     "name": "stdout",
     "output_type": "stream",
     "text": [
      "iteration=76\n"
     ]
    },
    {
     "name": "stderr",
     "output_type": "stream",
     "text": [
      "INFO:fbprophet:Making 5 forecasts with cutoffs between 2013-04-02 00:00:00 and 2017-04-01 00:00:00\n",
      "100%|██████████| 5/5 [00:07<00:00,  1.44s/it]\n",
      "INFO:fbprophet:Disabling weekly seasonality. Run prophet with weekly_seasonality=True to override this.\n",
      "INFO:fbprophet:Disabling daily seasonality. Run prophet with daily_seasonality=True to override this.\n"
     ]
    },
    {
     "name": "stdout",
     "output_type": "stream",
     "text": [
      "iteration=77\n"
     ]
    },
    {
     "name": "stderr",
     "output_type": "stream",
     "text": [
      "INFO:fbprophet:Making 5 forecasts with cutoffs between 2013-04-02 00:00:00 and 2017-04-01 00:00:00\n",
      "100%|██████████| 5/5 [00:06<00:00,  1.38s/it]\n",
      "INFO:fbprophet:Disabling weekly seasonality. Run prophet with weekly_seasonality=True to override this.\n",
      "INFO:fbprophet:Disabling daily seasonality. Run prophet with daily_seasonality=True to override this.\n"
     ]
    },
    {
     "name": "stdout",
     "output_type": "stream",
     "text": [
      "iteration=78\n"
     ]
    },
    {
     "name": "stderr",
     "output_type": "stream",
     "text": [
      "INFO:fbprophet:Making 5 forecasts with cutoffs between 2013-04-02 00:00:00 and 2017-04-01 00:00:00\n",
      "100%|██████████| 5/5 [00:06<00:00,  1.33s/it]\n",
      "INFO:fbprophet:Disabling weekly seasonality. Run prophet with weekly_seasonality=True to override this.\n",
      "INFO:fbprophet:Disabling daily seasonality. Run prophet with daily_seasonality=True to override this.\n"
     ]
    },
    {
     "name": "stdout",
     "output_type": "stream",
     "text": [
      "iteration=79\n"
     ]
    },
    {
     "name": "stderr",
     "output_type": "stream",
     "text": [
      "INFO:fbprophet:Making 5 forecasts with cutoffs between 2013-04-02 00:00:00 and 2017-04-01 00:00:00\n",
      "100%|██████████| 5/5 [00:06<00:00,  1.32s/it]\n",
      "INFO:fbprophet:Disabling weekly seasonality. Run prophet with weekly_seasonality=True to override this.\n",
      "INFO:fbprophet:Disabling daily seasonality. Run prophet with daily_seasonality=True to override this.\n"
     ]
    },
    {
     "name": "stdout",
     "output_type": "stream",
     "text": [
      "iteration=80\n"
     ]
    },
    {
     "name": "stderr",
     "output_type": "stream",
     "text": [
      "INFO:fbprophet:Making 5 forecasts with cutoffs between 2013-04-02 00:00:00 and 2017-04-01 00:00:00\n",
      "100%|██████████| 5/5 [00:06<00:00,  1.36s/it]\n",
      "INFO:fbprophet:Disabling weekly seasonality. Run prophet with weekly_seasonality=True to override this.\n",
      "INFO:fbprophet:Disabling daily seasonality. Run prophet with daily_seasonality=True to override this.\n"
     ]
    },
    {
     "name": "stdout",
     "output_type": "stream",
     "text": [
      "iteration=81\n"
     ]
    },
    {
     "name": "stderr",
     "output_type": "stream",
     "text": [
      "INFO:fbprophet:Making 5 forecasts with cutoffs between 2013-04-02 00:00:00 and 2017-04-01 00:00:00\n",
      "100%|██████████| 5/5 [00:06<00:00,  1.34s/it]\n",
      "INFO:fbprophet:Disabling weekly seasonality. Run prophet with weekly_seasonality=True to override this.\n",
      "INFO:fbprophet:Disabling daily seasonality. Run prophet with daily_seasonality=True to override this.\n"
     ]
    },
    {
     "name": "stdout",
     "output_type": "stream",
     "text": [
      "iteration=82\n"
     ]
    },
    {
     "name": "stderr",
     "output_type": "stream",
     "text": [
      "INFO:fbprophet:Making 5 forecasts with cutoffs between 2013-04-02 00:00:00 and 2017-04-01 00:00:00\n",
      "100%|██████████| 5/5 [00:06<00:00,  1.35s/it]\n",
      "INFO:fbprophet:Disabling weekly seasonality. Run prophet with weekly_seasonality=True to override this.\n",
      "INFO:fbprophet:Disabling daily seasonality. Run prophet with daily_seasonality=True to override this.\n"
     ]
    },
    {
     "name": "stdout",
     "output_type": "stream",
     "text": [
      "iteration=83\n"
     ]
    },
    {
     "name": "stderr",
     "output_type": "stream",
     "text": [
      "INFO:fbprophet:Making 5 forecasts with cutoffs between 2013-04-02 00:00:00 and 2017-04-01 00:00:00\n",
      "100%|██████████| 5/5 [00:06<00:00,  1.33s/it]\n",
      "INFO:fbprophet:Disabling weekly seasonality. Run prophet with weekly_seasonality=True to override this.\n",
      "INFO:fbprophet:Disabling daily seasonality. Run prophet with daily_seasonality=True to override this.\n"
     ]
    },
    {
     "name": "stdout",
     "output_type": "stream",
     "text": [
      "iteration=84\n"
     ]
    },
    {
     "name": "stderr",
     "output_type": "stream",
     "text": [
      "INFO:fbprophet:Making 5 forecasts with cutoffs between 2013-04-02 00:00:00 and 2017-04-01 00:00:00\n",
      "100%|██████████| 5/5 [00:06<00:00,  1.34s/it]\n",
      "INFO:fbprophet:Disabling weekly seasonality. Run prophet with weekly_seasonality=True to override this.\n",
      "INFO:fbprophet:Disabling daily seasonality. Run prophet with daily_seasonality=True to override this.\n"
     ]
    },
    {
     "name": "stdout",
     "output_type": "stream",
     "text": [
      "iteration=85\n"
     ]
    },
    {
     "name": "stderr",
     "output_type": "stream",
     "text": [
      "INFO:fbprophet:Making 5 forecasts with cutoffs between 2013-04-02 00:00:00 and 2017-04-01 00:00:00\n",
      "100%|██████████| 5/5 [00:06<00:00,  1.33s/it]\n",
      "INFO:fbprophet:Disabling weekly seasonality. Run prophet with weekly_seasonality=True to override this.\n",
      "INFO:fbprophet:Disabling daily seasonality. Run prophet with daily_seasonality=True to override this.\n"
     ]
    },
    {
     "name": "stdout",
     "output_type": "stream",
     "text": [
      "iteration=86\n"
     ]
    },
    {
     "name": "stderr",
     "output_type": "stream",
     "text": [
      "INFO:fbprophet:Making 5 forecasts with cutoffs between 2013-04-02 00:00:00 and 2017-04-01 00:00:00\n",
      "100%|██████████| 5/5 [00:06<00:00,  1.34s/it]\n",
      "INFO:fbprophet:Disabling weekly seasonality. Run prophet with weekly_seasonality=True to override this.\n",
      "INFO:fbprophet:Disabling daily seasonality. Run prophet with daily_seasonality=True to override this.\n"
     ]
    },
    {
     "name": "stdout",
     "output_type": "stream",
     "text": [
      "iteration=87\n"
     ]
    },
    {
     "name": "stderr",
     "output_type": "stream",
     "text": [
      "INFO:fbprophet:Making 5 forecasts with cutoffs between 2013-04-02 00:00:00 and 2017-04-01 00:00:00\n",
      "100%|██████████| 5/5 [00:06<00:00,  1.28s/it]\n",
      "INFO:fbprophet:Disabling weekly seasonality. Run prophet with weekly_seasonality=True to override this.\n",
      "INFO:fbprophet:Disabling daily seasonality. Run prophet with daily_seasonality=True to override this.\n"
     ]
    },
    {
     "name": "stdout",
     "output_type": "stream",
     "text": [
      "iteration=88\n"
     ]
    },
    {
     "name": "stderr",
     "output_type": "stream",
     "text": [
      "INFO:fbprophet:Making 5 forecasts with cutoffs between 2013-04-02 00:00:00 and 2017-04-01 00:00:00\n",
      "100%|██████████| 5/5 [00:06<00:00,  1.35s/it]\n",
      "INFO:fbprophet:Disabling weekly seasonality. Run prophet with weekly_seasonality=True to override this.\n",
      "INFO:fbprophet:Disabling daily seasonality. Run prophet with daily_seasonality=True to override this.\n"
     ]
    },
    {
     "name": "stdout",
     "output_type": "stream",
     "text": [
      "iteration=89\n"
     ]
    },
    {
     "name": "stderr",
     "output_type": "stream",
     "text": [
      "INFO:fbprophet:Making 5 forecasts with cutoffs between 2013-04-02 00:00:00 and 2017-04-01 00:00:00\n",
      "100%|██████████| 5/5 [00:07<00:00,  1.48s/it]\n",
      "INFO:fbprophet:Disabling weekly seasonality. Run prophet with weekly_seasonality=True to override this.\n",
      "INFO:fbprophet:Disabling daily seasonality. Run prophet with daily_seasonality=True to override this.\n"
     ]
    },
    {
     "name": "stdout",
     "output_type": "stream",
     "text": [
      "iteration=90\n"
     ]
    },
    {
     "name": "stderr",
     "output_type": "stream",
     "text": [
      "INFO:fbprophet:Making 5 forecasts with cutoffs between 2013-04-02 00:00:00 and 2017-04-01 00:00:00\n",
      "100%|██████████| 5/5 [00:06<00:00,  1.35s/it]\n",
      "INFO:fbprophet:Disabling weekly seasonality. Run prophet with weekly_seasonality=True to override this.\n",
      "INFO:fbprophet:Disabling daily seasonality. Run prophet with daily_seasonality=True to override this.\n"
     ]
    },
    {
     "name": "stdout",
     "output_type": "stream",
     "text": [
      "iteration=91\n"
     ]
    },
    {
     "name": "stderr",
     "output_type": "stream",
     "text": [
      "INFO:fbprophet:Making 5 forecasts with cutoffs between 2013-04-02 00:00:00 and 2017-04-01 00:00:00\n",
      "100%|██████████| 5/5 [00:07<00:00,  1.55s/it]\n",
      "INFO:fbprophet:Disabling weekly seasonality. Run prophet with weekly_seasonality=True to override this.\n",
      "INFO:fbprophet:Disabling daily seasonality. Run prophet with daily_seasonality=True to override this.\n"
     ]
    },
    {
     "name": "stdout",
     "output_type": "stream",
     "text": [
      "iteration=92\n"
     ]
    },
    {
     "name": "stderr",
     "output_type": "stream",
     "text": [
      "INFO:fbprophet:Making 5 forecasts with cutoffs between 2013-04-02 00:00:00 and 2017-04-01 00:00:00\n",
      "100%|██████████| 5/5 [00:07<00:00,  1.53s/it]\n",
      "INFO:fbprophet:Disabling weekly seasonality. Run prophet with weekly_seasonality=True to override this.\n",
      "INFO:fbprophet:Disabling daily seasonality. Run prophet with daily_seasonality=True to override this.\n"
     ]
    },
    {
     "name": "stdout",
     "output_type": "stream",
     "text": [
      "iteration=93\n"
     ]
    },
    {
     "name": "stderr",
     "output_type": "stream",
     "text": [
      "INFO:fbprophet:Making 5 forecasts with cutoffs between 2013-04-02 00:00:00 and 2017-04-01 00:00:00\n",
      "100%|██████████| 5/5 [00:07<00:00,  1.47s/it]\n",
      "INFO:fbprophet:Disabling weekly seasonality. Run prophet with weekly_seasonality=True to override this.\n",
      "INFO:fbprophet:Disabling daily seasonality. Run prophet with daily_seasonality=True to override this.\n"
     ]
    },
    {
     "name": "stdout",
     "output_type": "stream",
     "text": [
      "iteration=94\n"
     ]
    },
    {
     "name": "stderr",
     "output_type": "stream",
     "text": [
      "INFO:fbprophet:Making 5 forecasts with cutoffs between 2013-04-02 00:00:00 and 2017-04-01 00:00:00\n",
      "100%|██████████| 5/5 [00:07<00:00,  1.47s/it]\n",
      "INFO:fbprophet:Disabling weekly seasonality. Run prophet with weekly_seasonality=True to override this.\n",
      "INFO:fbprophet:Disabling daily seasonality. Run prophet with daily_seasonality=True to override this.\n"
     ]
    },
    {
     "name": "stdout",
     "output_type": "stream",
     "text": [
      "iteration=95\n"
     ]
    },
    {
     "name": "stderr",
     "output_type": "stream",
     "text": [
      "INFO:fbprophet:Making 5 forecasts with cutoffs between 2013-04-02 00:00:00 and 2017-04-01 00:00:00\n",
      "100%|██████████| 5/5 [00:07<00:00,  1.50s/it]\n",
      "INFO:fbprophet:Disabling weekly seasonality. Run prophet with weekly_seasonality=True to override this.\n",
      "INFO:fbprophet:Disabling daily seasonality. Run prophet with daily_seasonality=True to override this.\n"
     ]
    },
    {
     "name": "stdout",
     "output_type": "stream",
     "text": [
      "iteration=96\n"
     ]
    },
    {
     "name": "stderr",
     "output_type": "stream",
     "text": [
      "INFO:fbprophet:Making 5 forecasts with cutoffs between 2013-04-02 00:00:00 and 2017-04-01 00:00:00\n",
      "100%|██████████| 5/5 [00:06<00:00,  1.37s/it]\n",
      "INFO:fbprophet:Disabling weekly seasonality. Run prophet with weekly_seasonality=True to override this.\n",
      "INFO:fbprophet:Disabling daily seasonality. Run prophet with daily_seasonality=True to override this.\n"
     ]
    },
    {
     "name": "stdout",
     "output_type": "stream",
     "text": [
      "iteration=97\n"
     ]
    },
    {
     "name": "stderr",
     "output_type": "stream",
     "text": [
      "INFO:fbprophet:Making 5 forecasts with cutoffs between 2013-04-02 00:00:00 and 2017-04-01 00:00:00\n",
      "100%|██████████| 5/5 [00:06<00:00,  1.40s/it]\n",
      "INFO:fbprophet:Disabling weekly seasonality. Run prophet with weekly_seasonality=True to override this.\n",
      "INFO:fbprophet:Disabling daily seasonality. Run prophet with daily_seasonality=True to override this.\n"
     ]
    },
    {
     "name": "stdout",
     "output_type": "stream",
     "text": [
      "iteration=98\n"
     ]
    },
    {
     "name": "stderr",
     "output_type": "stream",
     "text": [
      "INFO:fbprophet:Making 5 forecasts with cutoffs between 2013-04-02 00:00:00 and 2017-04-01 00:00:00\n",
      "100%|██████████| 5/5 [00:06<00:00,  1.36s/it]\n",
      "INFO:fbprophet:Disabling weekly seasonality. Run prophet with weekly_seasonality=True to override this.\n",
      "INFO:fbprophet:Disabling daily seasonality. Run prophet with daily_seasonality=True to override this.\n"
     ]
    },
    {
     "name": "stdout",
     "output_type": "stream",
     "text": [
      "iteration=99\n"
     ]
    },
    {
     "name": "stderr",
     "output_type": "stream",
     "text": [
      "INFO:fbprophet:Making 5 forecasts with cutoffs between 2013-04-02 00:00:00 and 2017-04-01 00:00:00\n",
      "100%|██████████| 5/5 [00:07<00:00,  1.47s/it]\n",
      "INFO:fbprophet:Disabling weekly seasonality. Run prophet with weekly_seasonality=True to override this.\n",
      "INFO:fbprophet:Disabling daily seasonality. Run prophet with daily_seasonality=True to override this.\n"
     ]
    },
    {
     "name": "stdout",
     "output_type": "stream",
     "text": [
      "iteration=100\n"
     ]
    },
    {
     "name": "stderr",
     "output_type": "stream",
     "text": [
      "INFO:fbprophet:Making 5 forecasts with cutoffs between 2013-04-02 00:00:00 and 2017-04-01 00:00:00\n",
      "100%|██████████| 5/5 [00:07<00:00,  1.41s/it]\n",
      "INFO:fbprophet:Disabling weekly seasonality. Run prophet with weekly_seasonality=True to override this.\n",
      "INFO:fbprophet:Disabling daily seasonality. Run prophet with daily_seasonality=True to override this.\n"
     ]
    },
    {
     "name": "stdout",
     "output_type": "stream",
     "text": [
      "iteration=101\n"
     ]
    },
    {
     "name": "stderr",
     "output_type": "stream",
     "text": [
      "INFO:fbprophet:Making 5 forecasts with cutoffs between 2013-04-02 00:00:00 and 2017-04-01 00:00:00\n",
      "100%|██████████| 5/5 [00:06<00:00,  1.39s/it]\n",
      "INFO:fbprophet:Disabling weekly seasonality. Run prophet with weekly_seasonality=True to override this.\n",
      "INFO:fbprophet:Disabling daily seasonality. Run prophet with daily_seasonality=True to override this.\n"
     ]
    },
    {
     "name": "stdout",
     "output_type": "stream",
     "text": [
      "iteration=102\n"
     ]
    },
    {
     "name": "stderr",
     "output_type": "stream",
     "text": [
      "INFO:fbprophet:Making 5 forecasts with cutoffs between 2013-04-02 00:00:00 and 2017-04-01 00:00:00\n",
      "100%|██████████| 5/5 [00:06<00:00,  1.40s/it]"
     ]
    },
    {
     "name": "stdout",
     "output_type": "stream",
     "text": [
      "iteration=103\n"
     ]
    },
    {
     "name": "stderr",
     "output_type": "stream",
     "text": [
      "\n"
     ]
    }
   ],
   "source": [
    "zipcodes = list(df_time_series.columns)\n",
    "dict_mape = {}\n",
    "dict_pred = {}\n",
    "i = 1\n",
    "for zipcode in zipcodes:\n",
    "    # Create a new dataframe with dates and prices\n",
    "    ts = pd.DataFrame({'ds':df_time_series.index, 'y':df_time_series[zipcode]})\n",
    "    # Create a Prophet instance and fit the model\n",
    "    m = Prophet(yearly_seasonality=False, changepoint_range=1, changepoint_prior_scale=0.5)\n",
    "    m.fit(ts)\n",
    "\n",
    "    # Create a dataframe holding dates for our forecast of one month period\n",
    "    future = m.make_future_dataframe(periods=1, freq='M')\n",
    "    # Create a forecast object which will hold all of the resulting data from the future.\n",
    "    forecast = m.predict(future)\n",
    "\n",
    "    # Fit the model with 17 years of training data, a horizon of 365 days (one year) and forecasting per year between 2013 and 2017\n",
    "    df_cv = cross_validation(m, initial='6205 days', period='365 days', horizon = '365 days')\n",
    "    df_p = performance_metrics(df_cv)\n",
    "\n",
    "    # Create a dictionary with average MAPE of every zipcode\n",
    "    dict_mape[zipcode] = np.mean(df_p['mape'])\n",
    "    # Create a dictionary with forecasted prices of zipcodes for May 2018\n",
    "    dict_pred[zipcode] = np.array(forecast.yhat)[-1]\n",
    "    print(f'iteration={i}')\n",
    "    i += 1"
   ]
  },
  {
   "cell_type": "code",
   "execution_count": 22,
   "metadata": {},
   "outputs": [
    {
     "data": {
      "text/plain": [
       "{95744: 0.022498635550434295,\n",
       " 95750: 0.04278110779000683,\n",
       " 95751: 0.03408125028112888,\n",
       " 95753: 0.02982231867033438,\n",
       " 95754: 0.020673062452361255,\n",
       " 95760: 0.021685927237354685,\n",
       " 95766: 0.023356007127800827,\n",
       " 95768: 0.0280397544224704,\n",
       " 95769: 0.03602921269009029,\n",
       " 95770: 0.03434730300348244,\n",
       " 95771: 0.045912141431496335,\n",
       " 95775: 0.052278179111354565,\n",
       " 95779: 0.026860553573338542,\n",
       " 95783: 0.04679328785772354,\n",
       " 95785: 0.025238772814148578,\n",
       " 95787: 0.05044588420751083,\n",
       " 95788: 0.05167060208025199,\n",
       " 95790: 0.031614012629685995,\n",
       " 95792: 0.04179429582249042,\n",
       " 95793: 0.02960237024440737,\n",
       " 95794: 0.03774310893184554,\n",
       " 95795: 0.022623376705750278,\n",
       " 95798: 0.040796909553926605,\n",
       " 95799: 0.023349681918025767,\n",
       " 95800: 0.03320603155912621,\n",
       " 95803: 0.05935506051263894,\n",
       " 95804: 0.053552150532358844,\n",
       " 95805: 0.07727488712982523,\n",
       " 95806: 0.04725188507969076,\n",
       " 95809: 0.043625364435827534,\n",
       " 95811: 0.04808106594745356,\n",
       " 95813: 0.029426083389244503,\n",
       " 95814: 0.030271458421119,\n",
       " 95815: 0.026782273794856256,\n",
       " 95816: 0.04554779842216769,\n",
       " 95817: 0.03251929889460807,\n",
       " 95818: 0.061933752527614086,\n",
       " 95819: 0.04825771073766382,\n",
       " 95820: 0.0937953210600353,\n",
       " 95824: 0.029905361981916723,\n",
       " 95825: 0.026517157639345555,\n",
       " 95826: 0.025429646834373133,\n",
       " 95827: 0.02483231367385673,\n",
       " 95830: 0.038341795950534115,\n",
       " 95831: 0.024515869611043625,\n",
       " 95834: 0.032858074757566254,\n",
       " 95835: 0.029566433244114444,\n",
       " 95837: 0.034115387972923454,\n",
       " 95838: 0.04194677994191061,\n",
       " 95839: 0.057232444162401676,\n",
       " 95840: 0.024782252424292387,\n",
       " 95841: 0.024787502553774866,\n",
       " 95842: 0.042324631114278415,\n",
       " 95843: 0.014973894613094363,\n",
       " 95844: 0.046392384187789994,\n",
       " 95845: 0.03378183762916275,\n",
       " 95851: 0.01926188734707299,\n",
       " 95852: 0.045454014922245524,\n",
       " 95861: 0.031835900515247546,\n",
       " 95865: 0.03695304263395325,\n",
       " 95866: 0.017686717512439786,\n",
       " 95883: 0.022850621255721595,\n",
       " 95888: 0.0364164969395669,\n",
       " 95890: 0.054124594959493774,\n",
       " 95891: 0.03320864612697135,\n",
       " 95893: 0.06451534890433677,\n",
       " 95901: 0.039261552321618015,\n",
       " 95907: 0.03392726123407389,\n",
       " 95909: 0.040307572198368696,\n",
       " 95911: 0.023971527220539444,\n",
       " 95912: 0.042867507086386175,\n",
       " 95914: 0.03748659863446806,\n",
       " 95916: 0.05640902283540983,\n",
       " 95917: 0.045543683310369336,\n",
       " 95919: 0.051584223018417606,\n",
       " 95922: 0.03528869275268434,\n",
       " 95923: 0.05224819563754419,\n",
       " 95924: 0.06992530950915793,\n",
       " 95926: 0.04582917758575527,\n",
       " 95928: 0.058460290765724114,\n",
       " 95930: 0.053482173681949546,\n",
       " 95931: 0.020103747985949223,\n",
       " 95932: 0.04092247748861434,\n",
       " 95935: 0.030989881767913532,\n",
       " 95937: 0.028004390547727243,\n",
       " 95938: 0.03678098305692088,\n",
       " 95939: 0.027204512517963773,\n",
       " 95940: 0.031919613786859626,\n",
       " 95944: 0.02429083202181481,\n",
       " 95945: 0.021539231083709576,\n",
       " 95952: 0.02731434444478958,\n",
       " 95954: 0.024193958362711956,\n",
       " 95955: 0.08357990835093837,\n",
       " 95956: 0.046550476695143735,\n",
       " 95957: 0.027981614194214768,\n",
       " 95963: 0.033157206621436924,\n",
       " 95966: 0.03217108263103794,\n",
       " 399665: 0.03444270744775924,\n",
       " 399666: 0.036062482078580683,\n",
       " 399671: 0.04578603188943014,\n",
       " 399672: 0.0254675908325991,\n",
       " 399673: 0.017187629795996175,\n",
       " 399674: 0.02247708340155557}"
      ]
     },
     "execution_count": 22,
     "metadata": {},
     "output_type": "execute_result"
    }
   ],
   "source": [
    "dict_mape"
   ]
  },
  {
   "cell_type": "code",
   "execution_count": 23,
   "metadata": {},
   "outputs": [
    {
     "data": {
      "text/plain": [
       "0.037575237987934114"
      ]
     },
     "execution_count": 23,
     "metadata": {},
     "output_type": "execute_result"
    }
   ],
   "source": [
    "np.mean(list(dict_mape.values()))"
   ]
  },
  {
   "cell_type": "code",
   "execution_count": 24,
   "metadata": {},
   "outputs": [
    {
     "data": {
      "text/plain": [
       "{95744: 315770.5862729762,\n",
       " 95750: 268191.1951533978,\n",
       " 95751: 346791.0020159719,\n",
       " 95753: 290775.76827606466,\n",
       " 95754: 255266.9013634051,\n",
       " 95760: 310127.47890419036,\n",
       " 95766: 240189.23249319484,\n",
       " 95768: 182509.39476487262,\n",
       " 95769: 153247.78988254067,\n",
       " 95770: 246300.94475486007,\n",
       " 95771: 234114.60925612983,\n",
       " 95775: 208033.3162393082,\n",
       " 95779: 357295.44824271597,\n",
       " 95783: 200705.8126463924,\n",
       " 95785: 421068.9254136304,\n",
       " 95787: 154590.7171150974,\n",
       " 95788: 219499.46418643033,\n",
       " 95790: 316779.48254232004,\n",
       " 95792: 255788.3319140967,\n",
       " 95793: 299204.5957428111,\n",
       " 95794: 328288.87104909273,\n",
       " 95795: 279634.99856473086,\n",
       " 95798: 220765.39635029866,\n",
       " 95799: 254729.35021436046,\n",
       " 95800: 212632.1144190938,\n",
       " 95803: 198917.1941191062,\n",
       " 95804: 212876.99612153973,\n",
       " 95805: 337940.7916967204,\n",
       " 95806: 200482.01372467002,\n",
       " 95809: 309582.4499731394,\n",
       " 95811: 180066.93932910392,\n",
       " 95813: 344299.1564222108,\n",
       " 95814: 271179.49889021384,\n",
       " 95815: 241955.26361875163,\n",
       " 95816: 267252.62681162066,\n",
       " 95817: 212357.25585671476,\n",
       " 95818: 214762.9394826224,\n",
       " 95819: 306773.87555588817,\n",
       " 95820: 334290.0833986482,\n",
       " 95824: 280846.724090128,\n",
       " 95825: 286423.08475005795,\n",
       " 95826: 276657.8056960072,\n",
       " 95827: 339574.2471591072,\n",
       " 95830: 321577.72028144787,\n",
       " 95831: 425834.5057004451,\n",
       " 95834: 442950.4158662549,\n",
       " 95835: 289032.9615452033,\n",
       " 95837: 321001.58057856036,\n",
       " 95838: 213715.51190621968,\n",
       " 95839: 283231.0973787324,\n",
       " 95840: 351505.7533436969,\n",
       " 95841: 246658.82776447045,\n",
       " 95842: 320103.6004428028,\n",
       " 95843: 272818.3010017803,\n",
       " 95844: 305625.52330460254,\n",
       " 95845: 308219.1848478401,\n",
       " 95851: 362032.9962344175,\n",
       " 95852: 207605.68758203776,\n",
       " 95861: 291128.0588082098,\n",
       " 95865: 295479.7674959657,\n",
       " 95866: 305660.96584050445,\n",
       " 95883: 275411.9877160178,\n",
       " 95888: 244086.15490036257,\n",
       " 95890: 373451.8138814837,\n",
       " 95891: 659160.513359919,\n",
       " 95893: 2132853.3588797115,\n",
       " 95901: 403664.2838719558,\n",
       " 95907: 191969.94510094702,\n",
       " 95909: 251931.37670638357,\n",
       " 95911: 274932.279549524,\n",
       " 95912: 303049.82422532566,\n",
       " 95914: 373725.1710211443,\n",
       " 95916: 454322.1839203852,\n",
       " 95917: 218486.83054223805,\n",
       " 95919: 276026.96248109627,\n",
       " 95922: 168143.63871695238,\n",
       " 95923: 736841.7751282966,\n",
       " 95924: 381426.39967530925,\n",
       " 95926: 946704.3623023875,\n",
       " 95928: 324424.9757866733,\n",
       " 95930: 351052.4832722586,\n",
       " 95931: 284076.71654429485,\n",
       " 95932: 314054.913904733,\n",
       " 95935: 280461.8992750567,\n",
       " 95937: 452250.1469241155,\n",
       " 95938: 431762.4565774328,\n",
       " 95939: 666469.6560600224,\n",
       " 95940: 233341.54418264233,\n",
       " 95944: 417320.8573649556,\n",
       " 95945: 397864.98620824347,\n",
       " 95952: 270163.8202057961,\n",
       " 95954: 404803.0094934392,\n",
       " 95955: 423194.0997806724,\n",
       " 95956: 319915.2612081292,\n",
       " 95957: 268942.85774527164,\n",
       " 95963: 241310.69109952607,\n",
       " 95966: 238194.8008724951,\n",
       " 399665: 307046.4987918806,\n",
       " 399666: 332575.9172435973,\n",
       " 399671: 277916.42593488516,\n",
       " 399672: 422765.85601377813,\n",
       " 399673: 301861.70888802106,\n",
       " 399674: 540689.2117415073}"
      ]
     },
     "execution_count": 24,
     "metadata": {},
     "output_type": "execute_result"
    }
   ],
   "source": [
    "dict_pred"
   ]
  },
  {
   "cell_type": "code",
   "execution_count": 25,
   "metadata": {},
   "outputs": [
    {
     "name": "stderr",
     "output_type": "stream",
     "text": [
      "INFO:fbprophet:Disabling weekly seasonality. Run prophet with weekly_seasonality=True to override this.\n",
      "INFO:fbprophet:Disabling daily seasonality. Run prophet with daily_seasonality=True to override this.\n",
      "INFO:fbprophet:Making 5 forecasts with cutoffs between 2013-04-02 00:00:00 and 2017-04-01 00:00:00\n",
      "100%|██████████| 5/5 [00:07<00:00,  1.44s/it]\n",
      "INFO:fbprophet:Disabling weekly seasonality. Run prophet with weekly_seasonality=True to override this.\n",
      "INFO:fbprophet:Disabling daily seasonality. Run prophet with daily_seasonality=True to override this.\n"
     ]
    },
    {
     "name": "stdout",
     "output_type": "stream",
     "text": [
      "iteration=1\n"
     ]
    },
    {
     "name": "stderr",
     "output_type": "stream",
     "text": [
      "INFO:fbprophet:Making 5 forecasts with cutoffs between 2013-04-02 00:00:00 and 2017-04-01 00:00:00\n",
      "100%|██████████| 5/5 [00:06<00:00,  1.36s/it]\n",
      "INFO:fbprophet:Disabling weekly seasonality. Run prophet with weekly_seasonality=True to override this.\n",
      "INFO:fbprophet:Disabling daily seasonality. Run prophet with daily_seasonality=True to override this.\n"
     ]
    },
    {
     "name": "stdout",
     "output_type": "stream",
     "text": [
      "iteration=2\n"
     ]
    },
    {
     "name": "stderr",
     "output_type": "stream",
     "text": [
      "INFO:fbprophet:Making 5 forecasts with cutoffs between 2013-04-02 00:00:00 and 2017-04-01 00:00:00\n",
      "100%|██████████| 5/5 [00:07<00:00,  1.47s/it]\n",
      "INFO:fbprophet:Disabling weekly seasonality. Run prophet with weekly_seasonality=True to override this.\n",
      "INFO:fbprophet:Disabling daily seasonality. Run prophet with daily_seasonality=True to override this.\n"
     ]
    },
    {
     "name": "stdout",
     "output_type": "stream",
     "text": [
      "iteration=3\n"
     ]
    },
    {
     "name": "stderr",
     "output_type": "stream",
     "text": [
      "INFO:fbprophet:Making 5 forecasts with cutoffs between 2013-04-02 00:00:00 and 2017-04-01 00:00:00\n",
      "100%|██████████| 5/5 [00:07<00:00,  1.54s/it]\n",
      "INFO:fbprophet:Disabling weekly seasonality. Run prophet with weekly_seasonality=True to override this.\n",
      "INFO:fbprophet:Disabling daily seasonality. Run prophet with daily_seasonality=True to override this.\n"
     ]
    },
    {
     "name": "stdout",
     "output_type": "stream",
     "text": [
      "iteration=4\n"
     ]
    },
    {
     "name": "stderr",
     "output_type": "stream",
     "text": [
      "INFO:fbprophet:Making 5 forecasts with cutoffs between 2013-04-02 00:00:00 and 2017-04-01 00:00:00\n",
      "100%|██████████| 5/5 [00:07<00:00,  1.52s/it]\n",
      "INFO:fbprophet:Disabling weekly seasonality. Run prophet with weekly_seasonality=True to override this.\n",
      "INFO:fbprophet:Disabling daily seasonality. Run prophet with daily_seasonality=True to override this.\n"
     ]
    },
    {
     "name": "stdout",
     "output_type": "stream",
     "text": [
      "iteration=5\n"
     ]
    },
    {
     "name": "stderr",
     "output_type": "stream",
     "text": [
      "INFO:fbprophet:Making 5 forecasts with cutoffs between 2013-04-02 00:00:00 and 2017-04-01 00:00:00\n",
      "100%|██████████| 5/5 [00:07<00:00,  1.48s/it]\n",
      "INFO:fbprophet:Disabling weekly seasonality. Run prophet with weekly_seasonality=True to override this.\n",
      "INFO:fbprophet:Disabling daily seasonality. Run prophet with daily_seasonality=True to override this.\n"
     ]
    },
    {
     "name": "stdout",
     "output_type": "stream",
     "text": [
      "iteration=6\n"
     ]
    },
    {
     "name": "stderr",
     "output_type": "stream",
     "text": [
      "INFO:fbprophet:Making 5 forecasts with cutoffs between 2013-04-02 00:00:00 and 2017-04-01 00:00:00\n",
      "100%|██████████| 5/5 [00:07<00:00,  1.46s/it]\n",
      "INFO:fbprophet:Disabling weekly seasonality. Run prophet with weekly_seasonality=True to override this.\n",
      "INFO:fbprophet:Disabling daily seasonality. Run prophet with daily_seasonality=True to override this.\n"
     ]
    },
    {
     "name": "stdout",
     "output_type": "stream",
     "text": [
      "iteration=7\n"
     ]
    },
    {
     "name": "stderr",
     "output_type": "stream",
     "text": [
      "INFO:fbprophet:Making 5 forecasts with cutoffs between 2013-04-02 00:00:00 and 2017-04-01 00:00:00\n",
      "100%|██████████| 5/5 [00:07<00:00,  1.55s/it]\n",
      "INFO:fbprophet:Disabling weekly seasonality. Run prophet with weekly_seasonality=True to override this.\n",
      "INFO:fbprophet:Disabling daily seasonality. Run prophet with daily_seasonality=True to override this.\n"
     ]
    },
    {
     "name": "stdout",
     "output_type": "stream",
     "text": [
      "iteration=8\n"
     ]
    },
    {
     "name": "stderr",
     "output_type": "stream",
     "text": [
      "INFO:fbprophet:Making 5 forecasts with cutoffs between 2013-04-02 00:00:00 and 2017-04-01 00:00:00\n",
      "100%|██████████| 5/5 [00:07<00:00,  1.44s/it]\n",
      "INFO:fbprophet:Disabling weekly seasonality. Run prophet with weekly_seasonality=True to override this.\n",
      "INFO:fbprophet:Disabling daily seasonality. Run prophet with daily_seasonality=True to override this.\n"
     ]
    },
    {
     "name": "stdout",
     "output_type": "stream",
     "text": [
      "iteration=9\n"
     ]
    },
    {
     "name": "stderr",
     "output_type": "stream",
     "text": [
      "INFO:fbprophet:Making 5 forecasts with cutoffs between 2013-04-02 00:00:00 and 2017-04-01 00:00:00\n",
      "100%|██████████| 5/5 [00:07<00:00,  1.51s/it]\n",
      "INFO:fbprophet:Disabling weekly seasonality. Run prophet with weekly_seasonality=True to override this.\n",
      "INFO:fbprophet:Disabling daily seasonality. Run prophet with daily_seasonality=True to override this.\n"
     ]
    },
    {
     "name": "stdout",
     "output_type": "stream",
     "text": [
      "iteration=10\n"
     ]
    },
    {
     "name": "stderr",
     "output_type": "stream",
     "text": [
      "INFO:fbprophet:Making 5 forecasts with cutoffs between 2013-04-02 00:00:00 and 2017-04-01 00:00:00\n",
      "100%|██████████| 5/5 [00:07<00:00,  1.52s/it]\n",
      "INFO:fbprophet:Disabling weekly seasonality. Run prophet with weekly_seasonality=True to override this.\n",
      "INFO:fbprophet:Disabling daily seasonality. Run prophet with daily_seasonality=True to override this.\n"
     ]
    },
    {
     "name": "stdout",
     "output_type": "stream",
     "text": [
      "iteration=11\n"
     ]
    },
    {
     "name": "stderr",
     "output_type": "stream",
     "text": [
      "INFO:fbprophet:Making 5 forecasts with cutoffs between 2013-04-02 00:00:00 and 2017-04-01 00:00:00\n",
      "100%|██████████| 5/5 [00:07<00:00,  1.54s/it]\n",
      "INFO:fbprophet:Disabling weekly seasonality. Run prophet with weekly_seasonality=True to override this.\n",
      "INFO:fbprophet:Disabling daily seasonality. Run prophet with daily_seasonality=True to override this.\n"
     ]
    },
    {
     "name": "stdout",
     "output_type": "stream",
     "text": [
      "iteration=12\n"
     ]
    },
    {
     "name": "stderr",
     "output_type": "stream",
     "text": [
      "INFO:fbprophet:Making 5 forecasts with cutoffs between 2013-04-02 00:00:00 and 2017-04-01 00:00:00\n",
      "100%|██████████| 5/5 [00:08<00:00,  1.68s/it]\n",
      "INFO:fbprophet:Disabling weekly seasonality. Run prophet with weekly_seasonality=True to override this.\n",
      "INFO:fbprophet:Disabling daily seasonality. Run prophet with daily_seasonality=True to override this.\n"
     ]
    },
    {
     "name": "stdout",
     "output_type": "stream",
     "text": [
      "iteration=13\n"
     ]
    },
    {
     "name": "stderr",
     "output_type": "stream",
     "text": [
      "INFO:fbprophet:Making 5 forecasts with cutoffs between 2013-04-02 00:00:00 and 2017-04-01 00:00:00\n",
      "100%|██████████| 5/5 [00:08<00:00,  1.71s/it]\n",
      "INFO:fbprophet:Disabling weekly seasonality. Run prophet with weekly_seasonality=True to override this.\n",
      "INFO:fbprophet:Disabling daily seasonality. Run prophet with daily_seasonality=True to override this.\n"
     ]
    },
    {
     "name": "stdout",
     "output_type": "stream",
     "text": [
      "iteration=14\n"
     ]
    },
    {
     "name": "stderr",
     "output_type": "stream",
     "text": [
      "INFO:fbprophet:Making 5 forecasts with cutoffs between 2013-04-02 00:00:00 and 2017-04-01 00:00:00\n",
      "100%|██████████| 5/5 [00:07<00:00,  1.52s/it]\n",
      "INFO:fbprophet:Disabling weekly seasonality. Run prophet with weekly_seasonality=True to override this.\n",
      "INFO:fbprophet:Disabling daily seasonality. Run prophet with daily_seasonality=True to override this.\n"
     ]
    },
    {
     "name": "stdout",
     "output_type": "stream",
     "text": [
      "iteration=15\n"
     ]
    },
    {
     "name": "stderr",
     "output_type": "stream",
     "text": [
      "INFO:fbprophet:Making 5 forecasts with cutoffs between 2013-04-02 00:00:00 and 2017-04-01 00:00:00\n",
      "100%|██████████| 5/5 [00:07<00:00,  1.48s/it]\n",
      "INFO:fbprophet:Disabling weekly seasonality. Run prophet with weekly_seasonality=True to override this.\n",
      "INFO:fbprophet:Disabling daily seasonality. Run prophet with daily_seasonality=True to override this.\n"
     ]
    },
    {
     "name": "stdout",
     "output_type": "stream",
     "text": [
      "iteration=16\n"
     ]
    },
    {
     "name": "stderr",
     "output_type": "stream",
     "text": [
      "INFO:fbprophet:Making 5 forecasts with cutoffs between 2013-04-02 00:00:00 and 2017-04-01 00:00:00\n",
      "100%|██████████| 5/5 [00:07<00:00,  1.52s/it]\n",
      "INFO:fbprophet:Disabling weekly seasonality. Run prophet with weekly_seasonality=True to override this.\n",
      "INFO:fbprophet:Disabling daily seasonality. Run prophet with daily_seasonality=True to override this.\n"
     ]
    },
    {
     "name": "stdout",
     "output_type": "stream",
     "text": [
      "iteration=17\n"
     ]
    },
    {
     "name": "stderr",
     "output_type": "stream",
     "text": [
      "INFO:fbprophet:Making 5 forecasts with cutoffs between 2013-04-02 00:00:00 and 2017-04-01 00:00:00\n",
      "100%|██████████| 5/5 [00:07<00:00,  1.54s/it]\n",
      "INFO:fbprophet:Disabling weekly seasonality. Run prophet with weekly_seasonality=True to override this.\n",
      "INFO:fbprophet:Disabling daily seasonality. Run prophet with daily_seasonality=True to override this.\n"
     ]
    },
    {
     "name": "stdout",
     "output_type": "stream",
     "text": [
      "iteration=18\n"
     ]
    },
    {
     "name": "stderr",
     "output_type": "stream",
     "text": [
      "INFO:fbprophet:Making 5 forecasts with cutoffs between 2013-04-02 00:00:00 and 2017-04-01 00:00:00\n",
      "100%|██████████| 5/5 [00:07<00:00,  1.51s/it]\n",
      "INFO:fbprophet:Disabling weekly seasonality. Run prophet with weekly_seasonality=True to override this.\n",
      "INFO:fbprophet:Disabling daily seasonality. Run prophet with daily_seasonality=True to override this.\n"
     ]
    },
    {
     "name": "stdout",
     "output_type": "stream",
     "text": [
      "iteration=19\n"
     ]
    },
    {
     "name": "stderr",
     "output_type": "stream",
     "text": [
      "INFO:fbprophet:Making 5 forecasts with cutoffs between 2013-04-02 00:00:00 and 2017-04-01 00:00:00\n",
      "100%|██████████| 5/5 [00:07<00:00,  1.59s/it]\n",
      "INFO:fbprophet:Disabling weekly seasonality. Run prophet with weekly_seasonality=True to override this.\n",
      "INFO:fbprophet:Disabling daily seasonality. Run prophet with daily_seasonality=True to override this.\n"
     ]
    },
    {
     "name": "stdout",
     "output_type": "stream",
     "text": [
      "iteration=20\n"
     ]
    },
    {
     "name": "stderr",
     "output_type": "stream",
     "text": [
      "INFO:fbprophet:Making 5 forecasts with cutoffs between 2013-04-02 00:00:00 and 2017-04-01 00:00:00\n",
      "100%|██████████| 5/5 [00:07<00:00,  1.56s/it]\n",
      "INFO:fbprophet:Disabling weekly seasonality. Run prophet with weekly_seasonality=True to override this.\n",
      "INFO:fbprophet:Disabling daily seasonality. Run prophet with daily_seasonality=True to override this.\n"
     ]
    },
    {
     "name": "stdout",
     "output_type": "stream",
     "text": [
      "iteration=21\n"
     ]
    },
    {
     "name": "stderr",
     "output_type": "stream",
     "text": [
      "INFO:fbprophet:Making 5 forecasts with cutoffs between 2013-04-02 00:00:00 and 2017-04-01 00:00:00\n",
      "100%|██████████| 5/5 [00:07<00:00,  1.50s/it]\n",
      "INFO:fbprophet:Disabling weekly seasonality. Run prophet with weekly_seasonality=True to override this.\n",
      "INFO:fbprophet:Disabling daily seasonality. Run prophet with daily_seasonality=True to override this.\n"
     ]
    },
    {
     "name": "stdout",
     "output_type": "stream",
     "text": [
      "iteration=22\n"
     ]
    },
    {
     "name": "stderr",
     "output_type": "stream",
     "text": [
      "INFO:fbprophet:Making 5 forecasts with cutoffs between 2013-04-02 00:00:00 and 2017-04-01 00:00:00\n",
      "100%|██████████| 5/5 [00:07<00:00,  1.48s/it]\n",
      "INFO:fbprophet:Disabling weekly seasonality. Run prophet with weekly_seasonality=True to override this.\n",
      "INFO:fbprophet:Disabling daily seasonality. Run prophet with daily_seasonality=True to override this.\n"
     ]
    },
    {
     "name": "stdout",
     "output_type": "stream",
     "text": [
      "iteration=23\n"
     ]
    },
    {
     "name": "stderr",
     "output_type": "stream",
     "text": [
      "INFO:fbprophet:Making 5 forecasts with cutoffs between 2013-04-02 00:00:00 and 2017-04-01 00:00:00\n",
      "100%|██████████| 5/5 [00:07<00:00,  1.50s/it]\n",
      "INFO:fbprophet:Disabling weekly seasonality. Run prophet with weekly_seasonality=True to override this.\n",
      "INFO:fbprophet:Disabling daily seasonality. Run prophet with daily_seasonality=True to override this.\n"
     ]
    },
    {
     "name": "stdout",
     "output_type": "stream",
     "text": [
      "iteration=24\n"
     ]
    },
    {
     "name": "stderr",
     "output_type": "stream",
     "text": [
      "INFO:fbprophet:Making 5 forecasts with cutoffs between 2013-04-02 00:00:00 and 2017-04-01 00:00:00\n",
      "100%|██████████| 5/5 [00:07<00:00,  1.50s/it]\n",
      "INFO:fbprophet:Disabling weekly seasonality. Run prophet with weekly_seasonality=True to override this.\n",
      "INFO:fbprophet:Disabling daily seasonality. Run prophet with daily_seasonality=True to override this.\n"
     ]
    },
    {
     "name": "stdout",
     "output_type": "stream",
     "text": [
      "iteration=25\n"
     ]
    },
    {
     "name": "stderr",
     "output_type": "stream",
     "text": [
      "INFO:fbprophet:Making 5 forecasts with cutoffs between 2013-04-02 00:00:00 and 2017-04-01 00:00:00\n",
      "100%|██████████| 5/5 [00:09<00:00,  1.82s/it]\n",
      "INFO:fbprophet:Disabling weekly seasonality. Run prophet with weekly_seasonality=True to override this.\n",
      "INFO:fbprophet:Disabling daily seasonality. Run prophet with daily_seasonality=True to override this.\n"
     ]
    },
    {
     "name": "stdout",
     "output_type": "stream",
     "text": [
      "iteration=26\n"
     ]
    },
    {
     "name": "stderr",
     "output_type": "stream",
     "text": [
      "INFO:fbprophet:Making 5 forecasts with cutoffs between 2013-04-02 00:00:00 and 2017-04-01 00:00:00\n",
      "100%|██████████| 5/5 [00:07<00:00,  1.58s/it]\n",
      "INFO:fbprophet:Disabling weekly seasonality. Run prophet with weekly_seasonality=True to override this.\n",
      "INFO:fbprophet:Disabling daily seasonality. Run prophet with daily_seasonality=True to override this.\n"
     ]
    },
    {
     "name": "stdout",
     "output_type": "stream",
     "text": [
      "iteration=27\n"
     ]
    },
    {
     "name": "stderr",
     "output_type": "stream",
     "text": [
      "INFO:fbprophet:Making 5 forecasts with cutoffs between 2013-04-02 00:00:00 and 2017-04-01 00:00:00\n",
      "100%|██████████| 5/5 [00:07<00:00,  1.40s/it]\n",
      "INFO:fbprophet:Disabling weekly seasonality. Run prophet with weekly_seasonality=True to override this.\n",
      "INFO:fbprophet:Disabling daily seasonality. Run prophet with daily_seasonality=True to override this.\n"
     ]
    },
    {
     "name": "stdout",
     "output_type": "stream",
     "text": [
      "iteration=28\n"
     ]
    },
    {
     "name": "stderr",
     "output_type": "stream",
     "text": [
      "INFO:fbprophet:Making 5 forecasts with cutoffs between 2013-04-02 00:00:00 and 2017-04-01 00:00:00\n",
      "100%|██████████| 5/5 [00:07<00:00,  1.49s/it]\n",
      "INFO:fbprophet:Disabling weekly seasonality. Run prophet with weekly_seasonality=True to override this.\n",
      "INFO:fbprophet:Disabling daily seasonality. Run prophet with daily_seasonality=True to override this.\n"
     ]
    },
    {
     "name": "stdout",
     "output_type": "stream",
     "text": [
      "iteration=29\n"
     ]
    },
    {
     "name": "stderr",
     "output_type": "stream",
     "text": [
      "INFO:fbprophet:Making 5 forecasts with cutoffs between 2013-04-02 00:00:00 and 2017-04-01 00:00:00\n",
      "100%|██████████| 5/5 [00:07<00:00,  1.52s/it]\n",
      "INFO:fbprophet:Disabling weekly seasonality. Run prophet with weekly_seasonality=True to override this.\n",
      "INFO:fbprophet:Disabling daily seasonality. Run prophet with daily_seasonality=True to override this.\n"
     ]
    },
    {
     "name": "stdout",
     "output_type": "stream",
     "text": [
      "iteration=30\n"
     ]
    },
    {
     "name": "stderr",
     "output_type": "stream",
     "text": [
      "INFO:fbprophet:Making 5 forecasts with cutoffs between 2013-04-02 00:00:00 and 2017-04-01 00:00:00\n",
      "100%|██████████| 5/5 [00:07<00:00,  1.54s/it]\n",
      "INFO:fbprophet:Disabling weekly seasonality. Run prophet with weekly_seasonality=True to override this.\n",
      "INFO:fbprophet:Disabling daily seasonality. Run prophet with daily_seasonality=True to override this.\n"
     ]
    },
    {
     "name": "stdout",
     "output_type": "stream",
     "text": [
      "iteration=31\n"
     ]
    },
    {
     "name": "stderr",
     "output_type": "stream",
     "text": [
      "INFO:fbprophet:Making 5 forecasts with cutoffs between 2013-04-02 00:00:00 and 2017-04-01 00:00:00\n",
      "100%|██████████| 5/5 [00:08<00:00,  1.67s/it]\n",
      "INFO:fbprophet:Disabling weekly seasonality. Run prophet with weekly_seasonality=True to override this.\n",
      "INFO:fbprophet:Disabling daily seasonality. Run prophet with daily_seasonality=True to override this.\n"
     ]
    },
    {
     "name": "stdout",
     "output_type": "stream",
     "text": [
      "iteration=32\n"
     ]
    },
    {
     "name": "stderr",
     "output_type": "stream",
     "text": [
      "INFO:fbprophet:Making 5 forecasts with cutoffs between 2013-04-02 00:00:00 and 2017-04-01 00:00:00\n",
      "100%|██████████| 5/5 [00:08<00:00,  1.65s/it]\n",
      "INFO:fbprophet:Disabling weekly seasonality. Run prophet with weekly_seasonality=True to override this.\n",
      "INFO:fbprophet:Disabling daily seasonality. Run prophet with daily_seasonality=True to override this.\n"
     ]
    },
    {
     "name": "stdout",
     "output_type": "stream",
     "text": [
      "iteration=33\n"
     ]
    },
    {
     "name": "stderr",
     "output_type": "stream",
     "text": [
      "INFO:fbprophet:Making 5 forecasts with cutoffs between 2013-04-02 00:00:00 and 2017-04-01 00:00:00\n",
      "100%|██████████| 5/5 [00:07<00:00,  1.55s/it]\n",
      "INFO:fbprophet:Disabling weekly seasonality. Run prophet with weekly_seasonality=True to override this.\n",
      "INFO:fbprophet:Disabling daily seasonality. Run prophet with daily_seasonality=True to override this.\n"
     ]
    },
    {
     "name": "stdout",
     "output_type": "stream",
     "text": [
      "iteration=34\n"
     ]
    },
    {
     "name": "stderr",
     "output_type": "stream",
     "text": [
      "INFO:fbprophet:Making 5 forecasts with cutoffs between 2013-04-02 00:00:00 and 2017-04-01 00:00:00\n",
      "100%|██████████| 5/5 [00:07<00:00,  1.55s/it]\n",
      "INFO:fbprophet:Disabling weekly seasonality. Run prophet with weekly_seasonality=True to override this.\n",
      "INFO:fbprophet:Disabling daily seasonality. Run prophet with daily_seasonality=True to override this.\n"
     ]
    },
    {
     "name": "stdout",
     "output_type": "stream",
     "text": [
      "iteration=35\n"
     ]
    },
    {
     "name": "stderr",
     "output_type": "stream",
     "text": [
      "INFO:fbprophet:Making 5 forecasts with cutoffs between 2013-04-02 00:00:00 and 2017-04-01 00:00:00\n",
      "100%|██████████| 5/5 [00:07<00:00,  1.51s/it]\n",
      "INFO:fbprophet:Disabling weekly seasonality. Run prophet with weekly_seasonality=True to override this.\n",
      "INFO:fbprophet:Disabling daily seasonality. Run prophet with daily_seasonality=True to override this.\n"
     ]
    },
    {
     "name": "stdout",
     "output_type": "stream",
     "text": [
      "iteration=36\n"
     ]
    },
    {
     "name": "stderr",
     "output_type": "stream",
     "text": [
      "INFO:fbprophet:Making 5 forecasts with cutoffs between 2013-04-02 00:00:00 and 2017-04-01 00:00:00\n",
      "100%|██████████| 5/5 [00:07<00:00,  1.51s/it]\n",
      "INFO:fbprophet:Disabling weekly seasonality. Run prophet with weekly_seasonality=True to override this.\n",
      "INFO:fbprophet:Disabling daily seasonality. Run prophet with daily_seasonality=True to override this.\n"
     ]
    },
    {
     "name": "stdout",
     "output_type": "stream",
     "text": [
      "iteration=37\n"
     ]
    },
    {
     "name": "stderr",
     "output_type": "stream",
     "text": [
      "INFO:fbprophet:Making 5 forecasts with cutoffs between 2013-04-02 00:00:00 and 2017-04-01 00:00:00\n",
      "100%|██████████| 5/5 [00:07<00:00,  1.48s/it]\n",
      "INFO:fbprophet:Disabling weekly seasonality. Run prophet with weekly_seasonality=True to override this.\n",
      "INFO:fbprophet:Disabling daily seasonality. Run prophet with daily_seasonality=True to override this.\n"
     ]
    },
    {
     "name": "stdout",
     "output_type": "stream",
     "text": [
      "iteration=38\n"
     ]
    },
    {
     "name": "stderr",
     "output_type": "stream",
     "text": [
      "INFO:fbprophet:Making 5 forecasts with cutoffs between 2013-04-02 00:00:00 and 2017-04-01 00:00:00\n",
      "100%|██████████| 5/5 [00:07<00:00,  1.43s/it]\n",
      "INFO:fbprophet:Disabling weekly seasonality. Run prophet with weekly_seasonality=True to override this.\n",
      "INFO:fbprophet:Disabling daily seasonality. Run prophet with daily_seasonality=True to override this.\n"
     ]
    },
    {
     "name": "stdout",
     "output_type": "stream",
     "text": [
      "iteration=39\n"
     ]
    },
    {
     "name": "stderr",
     "output_type": "stream",
     "text": [
      "INFO:fbprophet:Making 5 forecasts with cutoffs between 2013-04-02 00:00:00 and 2017-04-01 00:00:00\n",
      "100%|██████████| 5/5 [00:07<00:00,  1.45s/it]\n",
      "INFO:fbprophet:Disabling weekly seasonality. Run prophet with weekly_seasonality=True to override this.\n",
      "INFO:fbprophet:Disabling daily seasonality. Run prophet with daily_seasonality=True to override this.\n"
     ]
    },
    {
     "name": "stdout",
     "output_type": "stream",
     "text": [
      "iteration=40\n"
     ]
    },
    {
     "name": "stderr",
     "output_type": "stream",
     "text": [
      "INFO:fbprophet:Making 5 forecasts with cutoffs between 2013-04-02 00:00:00 and 2017-04-01 00:00:00\n",
      "100%|██████████| 5/5 [00:07<00:00,  1.46s/it]\n",
      "INFO:fbprophet:Disabling weekly seasonality. Run prophet with weekly_seasonality=True to override this.\n",
      "INFO:fbprophet:Disabling daily seasonality. Run prophet with daily_seasonality=True to override this.\n"
     ]
    },
    {
     "name": "stdout",
     "output_type": "stream",
     "text": [
      "iteration=41\n"
     ]
    },
    {
     "name": "stderr",
     "output_type": "stream",
     "text": [
      "INFO:fbprophet:Making 5 forecasts with cutoffs between 2013-04-02 00:00:00 and 2017-04-01 00:00:00\n",
      "100%|██████████| 5/5 [00:07<00:00,  1.47s/it]\n",
      "INFO:fbprophet:Disabling weekly seasonality. Run prophet with weekly_seasonality=True to override this.\n",
      "INFO:fbprophet:Disabling daily seasonality. Run prophet with daily_seasonality=True to override this.\n"
     ]
    },
    {
     "name": "stdout",
     "output_type": "stream",
     "text": [
      "iteration=42\n"
     ]
    },
    {
     "name": "stderr",
     "output_type": "stream",
     "text": [
      "INFO:fbprophet:Making 5 forecasts with cutoffs between 2013-04-02 00:00:00 and 2017-04-01 00:00:00\n",
      "100%|██████████| 5/5 [00:07<00:00,  1.44s/it]\n",
      "INFO:fbprophet:Disabling weekly seasonality. Run prophet with weekly_seasonality=True to override this.\n",
      "INFO:fbprophet:Disabling daily seasonality. Run prophet with daily_seasonality=True to override this.\n"
     ]
    },
    {
     "name": "stdout",
     "output_type": "stream",
     "text": [
      "iteration=43\n"
     ]
    },
    {
     "name": "stderr",
     "output_type": "stream",
     "text": [
      "INFO:fbprophet:Making 5 forecasts with cutoffs between 2013-04-02 00:00:00 and 2017-04-01 00:00:00\n",
      "100%|██████████| 5/5 [00:07<00:00,  1.46s/it]\n",
      "INFO:fbprophet:Disabling weekly seasonality. Run prophet with weekly_seasonality=True to override this.\n",
      "INFO:fbprophet:Disabling daily seasonality. Run prophet with daily_seasonality=True to override this.\n"
     ]
    },
    {
     "name": "stdout",
     "output_type": "stream",
     "text": [
      "iteration=44\n"
     ]
    },
    {
     "name": "stderr",
     "output_type": "stream",
     "text": [
      "INFO:fbprophet:Making 5 forecasts with cutoffs between 2013-04-02 00:00:00 and 2017-04-01 00:00:00\n",
      "100%|██████████| 5/5 [00:08<00:00,  1.62s/it]\n",
      "INFO:fbprophet:Disabling weekly seasonality. Run prophet with weekly_seasonality=True to override this.\n",
      "INFO:fbprophet:Disabling daily seasonality. Run prophet with daily_seasonality=True to override this.\n"
     ]
    },
    {
     "name": "stdout",
     "output_type": "stream",
     "text": [
      "iteration=45\n"
     ]
    },
    {
     "name": "stderr",
     "output_type": "stream",
     "text": [
      "INFO:fbprophet:Making 5 forecasts with cutoffs between 2013-04-02 00:00:00 and 2017-04-01 00:00:00\n",
      "100%|██████████| 5/5 [00:07<00:00,  1.54s/it]\n",
      "INFO:fbprophet:Disabling weekly seasonality. Run prophet with weekly_seasonality=True to override this.\n",
      "INFO:fbprophet:Disabling daily seasonality. Run prophet with daily_seasonality=True to override this.\n"
     ]
    },
    {
     "name": "stdout",
     "output_type": "stream",
     "text": [
      "iteration=46\n"
     ]
    },
    {
     "name": "stderr",
     "output_type": "stream",
     "text": [
      "INFO:fbprophet:Making 5 forecasts with cutoffs between 2013-04-02 00:00:00 and 2017-04-01 00:00:00\n",
      "100%|██████████| 5/5 [00:07<00:00,  1.47s/it]\n",
      "INFO:fbprophet:Disabling weekly seasonality. Run prophet with weekly_seasonality=True to override this.\n",
      "INFO:fbprophet:Disabling daily seasonality. Run prophet with daily_seasonality=True to override this.\n"
     ]
    },
    {
     "name": "stdout",
     "output_type": "stream",
     "text": [
      "iteration=47\n"
     ]
    },
    {
     "name": "stderr",
     "output_type": "stream",
     "text": [
      "INFO:fbprophet:Making 5 forecasts with cutoffs between 2013-04-02 00:00:00 and 2017-04-01 00:00:00\n",
      "100%|██████████| 5/5 [00:07<00:00,  1.44s/it]\n",
      "INFO:fbprophet:Disabling weekly seasonality. Run prophet with weekly_seasonality=True to override this.\n",
      "INFO:fbprophet:Disabling daily seasonality. Run prophet with daily_seasonality=True to override this.\n"
     ]
    },
    {
     "name": "stdout",
     "output_type": "stream",
     "text": [
      "iteration=48\n"
     ]
    },
    {
     "name": "stderr",
     "output_type": "stream",
     "text": [
      "INFO:fbprophet:Making 5 forecasts with cutoffs between 2013-04-02 00:00:00 and 2017-04-01 00:00:00\n",
      "100%|██████████| 5/5 [00:06<00:00,  1.40s/it]\n",
      "INFO:fbprophet:Disabling weekly seasonality. Run prophet with weekly_seasonality=True to override this.\n",
      "INFO:fbprophet:Disabling daily seasonality. Run prophet with daily_seasonality=True to override this.\n"
     ]
    },
    {
     "name": "stdout",
     "output_type": "stream",
     "text": [
      "iteration=49\n"
     ]
    },
    {
     "name": "stderr",
     "output_type": "stream",
     "text": [
      "INFO:fbprophet:Making 5 forecasts with cutoffs between 2013-04-02 00:00:00 and 2017-04-01 00:00:00\n",
      "100%|██████████| 5/5 [00:07<00:00,  1.44s/it]\n",
      "INFO:fbprophet:Disabling weekly seasonality. Run prophet with weekly_seasonality=True to override this.\n",
      "INFO:fbprophet:Disabling daily seasonality. Run prophet with daily_seasonality=True to override this.\n"
     ]
    },
    {
     "name": "stdout",
     "output_type": "stream",
     "text": [
      "iteration=50\n"
     ]
    },
    {
     "name": "stderr",
     "output_type": "stream",
     "text": [
      "INFO:fbprophet:Making 5 forecasts with cutoffs between 2013-04-02 00:00:00 and 2017-04-01 00:00:00\n",
      "100%|██████████| 5/5 [00:07<00:00,  1.50s/it]\n",
      "INFO:fbprophet:Disabling weekly seasonality. Run prophet with weekly_seasonality=True to override this.\n",
      "INFO:fbprophet:Disabling daily seasonality. Run prophet with daily_seasonality=True to override this.\n"
     ]
    },
    {
     "name": "stdout",
     "output_type": "stream",
     "text": [
      "iteration=51\n"
     ]
    },
    {
     "name": "stderr",
     "output_type": "stream",
     "text": [
      "INFO:fbprophet:Making 5 forecasts with cutoffs between 2013-04-02 00:00:00 and 2017-04-01 00:00:00\n",
      "100%|██████████| 5/5 [00:07<00:00,  1.54s/it]\n",
      "INFO:fbprophet:Disabling weekly seasonality. Run prophet with weekly_seasonality=True to override this.\n",
      "INFO:fbprophet:Disabling daily seasonality. Run prophet with daily_seasonality=True to override this.\n"
     ]
    },
    {
     "name": "stdout",
     "output_type": "stream",
     "text": [
      "iteration=52\n"
     ]
    },
    {
     "name": "stderr",
     "output_type": "stream",
     "text": [
      "INFO:fbprophet:Making 5 forecasts with cutoffs between 2013-04-02 00:00:00 and 2017-04-01 00:00:00\n",
      "100%|██████████| 5/5 [00:07<00:00,  1.50s/it]\n",
      "INFO:fbprophet:Disabling weekly seasonality. Run prophet with weekly_seasonality=True to override this.\n",
      "INFO:fbprophet:Disabling daily seasonality. Run prophet with daily_seasonality=True to override this.\n"
     ]
    },
    {
     "name": "stdout",
     "output_type": "stream",
     "text": [
      "iteration=53\n"
     ]
    },
    {
     "name": "stderr",
     "output_type": "stream",
     "text": [
      "INFO:fbprophet:Making 5 forecasts with cutoffs between 2013-04-02 00:00:00 and 2017-04-01 00:00:00\n",
      "100%|██████████| 5/5 [00:07<00:00,  1.45s/it]\n",
      "INFO:fbprophet:Disabling weekly seasonality. Run prophet with weekly_seasonality=True to override this.\n",
      "INFO:fbprophet:Disabling daily seasonality. Run prophet with daily_seasonality=True to override this.\n"
     ]
    },
    {
     "name": "stdout",
     "output_type": "stream",
     "text": [
      "iteration=54\n"
     ]
    },
    {
     "name": "stderr",
     "output_type": "stream",
     "text": [
      "INFO:fbprophet:Making 5 forecasts with cutoffs between 2013-04-02 00:00:00 and 2017-04-01 00:00:00\n",
      "100%|██████████| 5/5 [00:07<00:00,  1.43s/it]\n",
      "INFO:fbprophet:Disabling weekly seasonality. Run prophet with weekly_seasonality=True to override this.\n",
      "INFO:fbprophet:Disabling daily seasonality. Run prophet with daily_seasonality=True to override this.\n"
     ]
    },
    {
     "name": "stdout",
     "output_type": "stream",
     "text": [
      "iteration=55\n"
     ]
    },
    {
     "name": "stderr",
     "output_type": "stream",
     "text": [
      "INFO:fbprophet:Making 5 forecasts with cutoffs between 2013-04-02 00:00:00 and 2017-04-01 00:00:00\n",
      "100%|██████████| 5/5 [00:07<00:00,  1.46s/it]\n",
      "INFO:fbprophet:Disabling weekly seasonality. Run prophet with weekly_seasonality=True to override this.\n",
      "INFO:fbprophet:Disabling daily seasonality. Run prophet with daily_seasonality=True to override this.\n"
     ]
    },
    {
     "name": "stdout",
     "output_type": "stream",
     "text": [
      "iteration=56\n"
     ]
    },
    {
     "name": "stderr",
     "output_type": "stream",
     "text": [
      "INFO:fbprophet:Making 5 forecasts with cutoffs between 2013-04-02 00:00:00 and 2017-04-01 00:00:00\n",
      "100%|██████████| 5/5 [00:07<00:00,  1.44s/it]\n",
      "INFO:fbprophet:Disabling weekly seasonality. Run prophet with weekly_seasonality=True to override this.\n",
      "INFO:fbprophet:Disabling daily seasonality. Run prophet with daily_seasonality=True to override this.\n"
     ]
    },
    {
     "name": "stdout",
     "output_type": "stream",
     "text": [
      "iteration=57\n"
     ]
    },
    {
     "name": "stderr",
     "output_type": "stream",
     "text": [
      "INFO:fbprophet:Making 5 forecasts with cutoffs between 2013-04-02 00:00:00 and 2017-04-01 00:00:00\n",
      "100%|██████████| 5/5 [00:08<00:00,  1.61s/it]\n",
      "INFO:fbprophet:Disabling weekly seasonality. Run prophet with weekly_seasonality=True to override this.\n",
      "INFO:fbprophet:Disabling daily seasonality. Run prophet with daily_seasonality=True to override this.\n"
     ]
    },
    {
     "name": "stdout",
     "output_type": "stream",
     "text": [
      "iteration=58\n"
     ]
    },
    {
     "name": "stderr",
     "output_type": "stream",
     "text": [
      "INFO:fbprophet:Making 5 forecasts with cutoffs between 2013-04-02 00:00:00 and 2017-04-01 00:00:00\n",
      "100%|██████████| 5/5 [00:07<00:00,  1.47s/it]\n",
      "INFO:fbprophet:Disabling weekly seasonality. Run prophet with weekly_seasonality=True to override this.\n",
      "INFO:fbprophet:Disabling daily seasonality. Run prophet with daily_seasonality=True to override this.\n"
     ]
    },
    {
     "name": "stdout",
     "output_type": "stream",
     "text": [
      "iteration=59\n"
     ]
    },
    {
     "name": "stderr",
     "output_type": "stream",
     "text": [
      "INFO:fbprophet:Making 5 forecasts with cutoffs between 2013-04-02 00:00:00 and 2017-04-01 00:00:00\n",
      "100%|██████████| 5/5 [00:07<00:00,  1.59s/it]\n",
      "INFO:fbprophet:Disabling weekly seasonality. Run prophet with weekly_seasonality=True to override this.\n",
      "INFO:fbprophet:Disabling daily seasonality. Run prophet with daily_seasonality=True to override this.\n"
     ]
    },
    {
     "name": "stdout",
     "output_type": "stream",
     "text": [
      "iteration=60\n"
     ]
    },
    {
     "name": "stderr",
     "output_type": "stream",
     "text": [
      "INFO:fbprophet:Making 5 forecasts with cutoffs between 2013-04-02 00:00:00 and 2017-04-01 00:00:00\n",
      "100%|██████████| 5/5 [00:07<00:00,  1.59s/it]\n",
      "INFO:fbprophet:Disabling weekly seasonality. Run prophet with weekly_seasonality=True to override this.\n",
      "INFO:fbprophet:Disabling daily seasonality. Run prophet with daily_seasonality=True to override this.\n"
     ]
    },
    {
     "name": "stdout",
     "output_type": "stream",
     "text": [
      "iteration=61\n"
     ]
    },
    {
     "name": "stderr",
     "output_type": "stream",
     "text": [
      "INFO:fbprophet:Making 5 forecasts with cutoffs between 2013-04-02 00:00:00 and 2017-04-01 00:00:00\n",
      "100%|██████████| 5/5 [00:07<00:00,  1.44s/it]\n",
      "INFO:fbprophet:Disabling weekly seasonality. Run prophet with weekly_seasonality=True to override this.\n",
      "INFO:fbprophet:Disabling daily seasonality. Run prophet with daily_seasonality=True to override this.\n"
     ]
    },
    {
     "name": "stdout",
     "output_type": "stream",
     "text": [
      "iteration=62\n"
     ]
    },
    {
     "name": "stderr",
     "output_type": "stream",
     "text": [
      "INFO:fbprophet:Making 5 forecasts with cutoffs between 2013-04-02 00:00:00 and 2017-04-01 00:00:00\n",
      "100%|██████████| 5/5 [00:07<00:00,  1.40s/it]\n",
      "INFO:fbprophet:Disabling weekly seasonality. Run prophet with weekly_seasonality=True to override this.\n",
      "INFO:fbprophet:Disabling daily seasonality. Run prophet with daily_seasonality=True to override this.\n"
     ]
    },
    {
     "name": "stdout",
     "output_type": "stream",
     "text": [
      "iteration=63\n"
     ]
    },
    {
     "name": "stderr",
     "output_type": "stream",
     "text": [
      "INFO:fbprophet:Making 5 forecasts with cutoffs between 2013-04-02 00:00:00 and 2017-04-01 00:00:00\n",
      "100%|██████████| 5/5 [00:07<00:00,  1.52s/it]\n",
      "INFO:fbprophet:Disabling weekly seasonality. Run prophet with weekly_seasonality=True to override this.\n",
      "INFO:fbprophet:Disabling daily seasonality. Run prophet with daily_seasonality=True to override this.\n"
     ]
    },
    {
     "name": "stdout",
     "output_type": "stream",
     "text": [
      "iteration=64\n"
     ]
    },
    {
     "name": "stderr",
     "output_type": "stream",
     "text": [
      "INFO:fbprophet:Making 5 forecasts with cutoffs between 2013-04-02 00:00:00 and 2017-04-01 00:00:00\n",
      "100%|██████████| 5/5 [00:07<00:00,  1.56s/it]\n",
      "INFO:fbprophet:Disabling weekly seasonality. Run prophet with weekly_seasonality=True to override this.\n",
      "INFO:fbprophet:Disabling daily seasonality. Run prophet with daily_seasonality=True to override this.\n"
     ]
    },
    {
     "name": "stdout",
     "output_type": "stream",
     "text": [
      "iteration=65\n"
     ]
    },
    {
     "name": "stderr",
     "output_type": "stream",
     "text": [
      "INFO:fbprophet:Making 5 forecasts with cutoffs between 2013-04-02 00:00:00 and 2017-04-01 00:00:00\n",
      "100%|██████████| 5/5 [00:07<00:00,  1.42s/it]\n",
      "INFO:fbprophet:Disabling weekly seasonality. Run prophet with weekly_seasonality=True to override this.\n",
      "INFO:fbprophet:Disabling daily seasonality. Run prophet with daily_seasonality=True to override this.\n"
     ]
    },
    {
     "name": "stdout",
     "output_type": "stream",
     "text": [
      "iteration=66\n"
     ]
    },
    {
     "name": "stderr",
     "output_type": "stream",
     "text": [
      "INFO:fbprophet:Making 5 forecasts with cutoffs between 2013-04-02 00:00:00 and 2017-04-01 00:00:00\n",
      "100%|██████████| 5/5 [00:06<00:00,  1.40s/it]\n",
      "INFO:fbprophet:Disabling weekly seasonality. Run prophet with weekly_seasonality=True to override this.\n",
      "INFO:fbprophet:Disabling daily seasonality. Run prophet with daily_seasonality=True to override this.\n"
     ]
    },
    {
     "name": "stdout",
     "output_type": "stream",
     "text": [
      "iteration=67\n"
     ]
    },
    {
     "name": "stderr",
     "output_type": "stream",
     "text": [
      "INFO:fbprophet:Making 5 forecasts with cutoffs between 2013-04-02 00:00:00 and 2017-04-01 00:00:00\n",
      "100%|██████████| 5/5 [00:06<00:00,  1.32s/it]\n",
      "INFO:fbprophet:Disabling weekly seasonality. Run prophet with weekly_seasonality=True to override this.\n",
      "INFO:fbprophet:Disabling daily seasonality. Run prophet with daily_seasonality=True to override this.\n"
     ]
    },
    {
     "name": "stdout",
     "output_type": "stream",
     "text": [
      "iteration=68\n"
     ]
    },
    {
     "name": "stderr",
     "output_type": "stream",
     "text": [
      "INFO:fbprophet:Making 5 forecasts with cutoffs between 2013-04-02 00:00:00 and 2017-04-01 00:00:00\n",
      "100%|██████████| 5/5 [00:07<00:00,  1.44s/it]\n",
      "INFO:fbprophet:Disabling weekly seasonality. Run prophet with weekly_seasonality=True to override this.\n",
      "INFO:fbprophet:Disabling daily seasonality. Run prophet with daily_seasonality=True to override this.\n"
     ]
    },
    {
     "name": "stdout",
     "output_type": "stream",
     "text": [
      "iteration=69\n"
     ]
    },
    {
     "name": "stderr",
     "output_type": "stream",
     "text": [
      "INFO:fbprophet:Making 5 forecasts with cutoffs between 2013-04-02 00:00:00 and 2017-04-01 00:00:00\n",
      "100%|██████████| 5/5 [00:07<00:00,  1.42s/it]\n",
      "INFO:fbprophet:Disabling weekly seasonality. Run prophet with weekly_seasonality=True to override this.\n",
      "INFO:fbprophet:Disabling daily seasonality. Run prophet with daily_seasonality=True to override this.\n"
     ]
    },
    {
     "name": "stdout",
     "output_type": "stream",
     "text": [
      "iteration=70\n"
     ]
    },
    {
     "name": "stderr",
     "output_type": "stream",
     "text": [
      "INFO:fbprophet:Making 5 forecasts with cutoffs between 2013-04-02 00:00:00 and 2017-04-01 00:00:00\n",
      "100%|██████████| 5/5 [00:07<00:00,  1.48s/it]\n",
      "INFO:fbprophet:Disabling weekly seasonality. Run prophet with weekly_seasonality=True to override this.\n",
      "INFO:fbprophet:Disabling daily seasonality. Run prophet with daily_seasonality=True to override this.\n"
     ]
    },
    {
     "name": "stdout",
     "output_type": "stream",
     "text": [
      "iteration=71\n"
     ]
    },
    {
     "name": "stderr",
     "output_type": "stream",
     "text": [
      "INFO:fbprophet:Making 5 forecasts with cutoffs between 2013-04-02 00:00:00 and 2017-04-01 00:00:00\n",
      "100%|██████████| 5/5 [00:07<00:00,  1.47s/it]\n",
      "INFO:fbprophet:Disabling weekly seasonality. Run prophet with weekly_seasonality=True to override this.\n",
      "INFO:fbprophet:Disabling daily seasonality. Run prophet with daily_seasonality=True to override this.\n"
     ]
    },
    {
     "name": "stdout",
     "output_type": "stream",
     "text": [
      "iteration=72\n"
     ]
    },
    {
     "name": "stderr",
     "output_type": "stream",
     "text": [
      "INFO:fbprophet:Making 5 forecasts with cutoffs between 2013-04-02 00:00:00 and 2017-04-01 00:00:00\n",
      "100%|██████████| 5/5 [00:07<00:00,  1.42s/it]\n",
      "INFO:fbprophet:Disabling weekly seasonality. Run prophet with weekly_seasonality=True to override this.\n",
      "INFO:fbprophet:Disabling daily seasonality. Run prophet with daily_seasonality=True to override this.\n"
     ]
    },
    {
     "name": "stdout",
     "output_type": "stream",
     "text": [
      "iteration=73\n"
     ]
    },
    {
     "name": "stderr",
     "output_type": "stream",
     "text": [
      "INFO:fbprophet:Making 5 forecasts with cutoffs between 2013-04-02 00:00:00 and 2017-04-01 00:00:00\n",
      "100%|██████████| 5/5 [00:07<00:00,  1.47s/it]\n",
      "INFO:fbprophet:Disabling weekly seasonality. Run prophet with weekly_seasonality=True to override this.\n",
      "INFO:fbprophet:Disabling daily seasonality. Run prophet with daily_seasonality=True to override this.\n"
     ]
    },
    {
     "name": "stdout",
     "output_type": "stream",
     "text": [
      "iteration=74\n"
     ]
    },
    {
     "name": "stderr",
     "output_type": "stream",
     "text": [
      "INFO:fbprophet:Making 5 forecasts with cutoffs between 2013-04-02 00:00:00 and 2017-04-01 00:00:00\n",
      "100%|██████████| 5/5 [00:07<00:00,  1.54s/it]\n",
      "INFO:fbprophet:Disabling weekly seasonality. Run prophet with weekly_seasonality=True to override this.\n",
      "INFO:fbprophet:Disabling daily seasonality. Run prophet with daily_seasonality=True to override this.\n"
     ]
    },
    {
     "name": "stdout",
     "output_type": "stream",
     "text": [
      "iteration=75\n"
     ]
    },
    {
     "name": "stderr",
     "output_type": "stream",
     "text": [
      "INFO:fbprophet:Making 5 forecasts with cutoffs between 2013-04-02 00:00:00 and 2017-04-01 00:00:00\n",
      "100%|██████████| 5/5 [00:07<00:00,  1.42s/it]\n",
      "INFO:fbprophet:Disabling weekly seasonality. Run prophet with weekly_seasonality=True to override this.\n",
      "INFO:fbprophet:Disabling daily seasonality. Run prophet with daily_seasonality=True to override this.\n"
     ]
    },
    {
     "name": "stdout",
     "output_type": "stream",
     "text": [
      "iteration=76\n"
     ]
    },
    {
     "name": "stderr",
     "output_type": "stream",
     "text": [
      "INFO:fbprophet:Making 5 forecasts with cutoffs between 2013-04-02 00:00:00 and 2017-04-01 00:00:00\n",
      "100%|██████████| 5/5 [00:07<00:00,  1.60s/it]\n",
      "INFO:fbprophet:Disabling weekly seasonality. Run prophet with weekly_seasonality=True to override this.\n",
      "INFO:fbprophet:Disabling daily seasonality. Run prophet with daily_seasonality=True to override this.\n"
     ]
    },
    {
     "name": "stdout",
     "output_type": "stream",
     "text": [
      "iteration=77\n"
     ]
    },
    {
     "name": "stderr",
     "output_type": "stream",
     "text": [
      "INFO:fbprophet:Making 5 forecasts with cutoffs between 2013-04-02 00:00:00 and 2017-04-01 00:00:00\n",
      "100%|██████████| 5/5 [00:09<00:00,  1.86s/it]\n",
      "INFO:fbprophet:Disabling weekly seasonality. Run prophet with weekly_seasonality=True to override this.\n",
      "INFO:fbprophet:Disabling daily seasonality. Run prophet with daily_seasonality=True to override this.\n"
     ]
    },
    {
     "name": "stdout",
     "output_type": "stream",
     "text": [
      "iteration=78\n"
     ]
    },
    {
     "name": "stderr",
     "output_type": "stream",
     "text": [
      "INFO:fbprophet:Making 5 forecasts with cutoffs between 2013-04-02 00:00:00 and 2017-04-01 00:00:00\n",
      "100%|██████████| 5/5 [00:08<00:00,  1.65s/it]\n",
      "INFO:fbprophet:Disabling weekly seasonality. Run prophet with weekly_seasonality=True to override this.\n",
      "INFO:fbprophet:Disabling daily seasonality. Run prophet with daily_seasonality=True to override this.\n"
     ]
    },
    {
     "name": "stdout",
     "output_type": "stream",
     "text": [
      "iteration=79\n"
     ]
    },
    {
     "name": "stderr",
     "output_type": "stream",
     "text": [
      "INFO:fbprophet:Making 5 forecasts with cutoffs between 2013-04-02 00:00:00 and 2017-04-01 00:00:00\n",
      "100%|██████████| 5/5 [00:07<00:00,  1.57s/it]\n",
      "INFO:fbprophet:Disabling weekly seasonality. Run prophet with weekly_seasonality=True to override this.\n",
      "INFO:fbprophet:Disabling daily seasonality. Run prophet with daily_seasonality=True to override this.\n"
     ]
    },
    {
     "name": "stdout",
     "output_type": "stream",
     "text": [
      "iteration=80\n"
     ]
    },
    {
     "name": "stderr",
     "output_type": "stream",
     "text": [
      "INFO:fbprophet:Making 5 forecasts with cutoffs between 2013-04-02 00:00:00 and 2017-04-01 00:00:00\n",
      "100%|██████████| 5/5 [00:07<00:00,  1.48s/it]\n",
      "INFO:fbprophet:Disabling weekly seasonality. Run prophet with weekly_seasonality=True to override this.\n",
      "INFO:fbprophet:Disabling daily seasonality. Run prophet with daily_seasonality=True to override this.\n"
     ]
    },
    {
     "name": "stdout",
     "output_type": "stream",
     "text": [
      "iteration=81\n"
     ]
    },
    {
     "name": "stderr",
     "output_type": "stream",
     "text": [
      "INFO:fbprophet:Making 5 forecasts with cutoffs between 2013-04-02 00:00:00 and 2017-04-01 00:00:00\n",
      "100%|██████████| 5/5 [00:07<00:00,  1.48s/it]\n",
      "INFO:fbprophet:Disabling weekly seasonality. Run prophet with weekly_seasonality=True to override this.\n",
      "INFO:fbprophet:Disabling daily seasonality. Run prophet with daily_seasonality=True to override this.\n"
     ]
    },
    {
     "name": "stdout",
     "output_type": "stream",
     "text": [
      "iteration=82\n"
     ]
    },
    {
     "name": "stderr",
     "output_type": "stream",
     "text": [
      "INFO:fbprophet:Making 5 forecasts with cutoffs between 2013-04-02 00:00:00 and 2017-04-01 00:00:00\n",
      "100%|██████████| 5/5 [00:07<00:00,  1.50s/it]\n",
      "INFO:fbprophet:Disabling weekly seasonality. Run prophet with weekly_seasonality=True to override this.\n",
      "INFO:fbprophet:Disabling daily seasonality. Run prophet with daily_seasonality=True to override this.\n"
     ]
    },
    {
     "name": "stdout",
     "output_type": "stream",
     "text": [
      "iteration=83\n"
     ]
    },
    {
     "name": "stderr",
     "output_type": "stream",
     "text": [
      "INFO:fbprophet:Making 5 forecasts with cutoffs between 2013-04-02 00:00:00 and 2017-04-01 00:00:00\n",
      "100%|██████████| 5/5 [00:07<00:00,  1.50s/it]\n",
      "INFO:fbprophet:Disabling weekly seasonality. Run prophet with weekly_seasonality=True to override this.\n",
      "INFO:fbprophet:Disabling daily seasonality. Run prophet with daily_seasonality=True to override this.\n"
     ]
    },
    {
     "name": "stdout",
     "output_type": "stream",
     "text": [
      "iteration=84\n"
     ]
    },
    {
     "name": "stderr",
     "output_type": "stream",
     "text": [
      "INFO:fbprophet:Making 5 forecasts with cutoffs between 2013-04-02 00:00:00 and 2017-04-01 00:00:00\n",
      "100%|██████████| 5/5 [00:07<00:00,  1.47s/it]\n",
      "INFO:fbprophet:Disabling weekly seasonality. Run prophet with weekly_seasonality=True to override this.\n",
      "INFO:fbprophet:Disabling daily seasonality. Run prophet with daily_seasonality=True to override this.\n"
     ]
    },
    {
     "name": "stdout",
     "output_type": "stream",
     "text": [
      "iteration=85\n"
     ]
    },
    {
     "name": "stderr",
     "output_type": "stream",
     "text": [
      "INFO:fbprophet:Making 5 forecasts with cutoffs between 2013-04-02 00:00:00 and 2017-04-01 00:00:00\n",
      "100%|██████████| 5/5 [00:07<00:00,  1.50s/it]\n",
      "INFO:fbprophet:Disabling weekly seasonality. Run prophet with weekly_seasonality=True to override this.\n",
      "INFO:fbprophet:Disabling daily seasonality. Run prophet with daily_seasonality=True to override this.\n"
     ]
    },
    {
     "name": "stdout",
     "output_type": "stream",
     "text": [
      "iteration=86\n"
     ]
    },
    {
     "name": "stderr",
     "output_type": "stream",
     "text": [
      "INFO:fbprophet:Making 5 forecasts with cutoffs between 2013-04-02 00:00:00 and 2017-04-01 00:00:00\n",
      "100%|██████████| 5/5 [00:07<00:00,  1.49s/it]\n",
      "INFO:fbprophet:Disabling weekly seasonality. Run prophet with weekly_seasonality=True to override this.\n",
      "INFO:fbprophet:Disabling daily seasonality. Run prophet with daily_seasonality=True to override this.\n"
     ]
    },
    {
     "name": "stdout",
     "output_type": "stream",
     "text": [
      "iteration=87\n"
     ]
    },
    {
     "name": "stderr",
     "output_type": "stream",
     "text": [
      "INFO:fbprophet:Making 5 forecasts with cutoffs between 2013-04-02 00:00:00 and 2017-04-01 00:00:00\n",
      "100%|██████████| 5/5 [00:06<00:00,  1.37s/it]\n",
      "INFO:fbprophet:Disabling weekly seasonality. Run prophet with weekly_seasonality=True to override this.\n",
      "INFO:fbprophet:Disabling daily seasonality. Run prophet with daily_seasonality=True to override this.\n"
     ]
    },
    {
     "name": "stdout",
     "output_type": "stream",
     "text": [
      "iteration=88\n"
     ]
    },
    {
     "name": "stderr",
     "output_type": "stream",
     "text": [
      "INFO:fbprophet:Making 5 forecasts with cutoffs between 2013-04-02 00:00:00 and 2017-04-01 00:00:00\n",
      "100%|██████████| 5/5 [00:07<00:00,  1.51s/it]\n",
      "INFO:fbprophet:Disabling weekly seasonality. Run prophet with weekly_seasonality=True to override this.\n",
      "INFO:fbprophet:Disabling daily seasonality. Run prophet with daily_seasonality=True to override this.\n"
     ]
    },
    {
     "name": "stdout",
     "output_type": "stream",
     "text": [
      "iteration=89\n"
     ]
    },
    {
     "name": "stderr",
     "output_type": "stream",
     "text": [
      "INFO:fbprophet:Making 5 forecasts with cutoffs between 2013-04-02 00:00:00 and 2017-04-01 00:00:00\n",
      "100%|██████████| 5/5 [00:07<00:00,  1.48s/it]\n",
      "INFO:fbprophet:Disabling weekly seasonality. Run prophet with weekly_seasonality=True to override this.\n",
      "INFO:fbprophet:Disabling daily seasonality. Run prophet with daily_seasonality=True to override this.\n"
     ]
    },
    {
     "name": "stdout",
     "output_type": "stream",
     "text": [
      "iteration=90\n"
     ]
    },
    {
     "name": "stderr",
     "output_type": "stream",
     "text": [
      "INFO:fbprophet:Making 5 forecasts with cutoffs between 2013-04-02 00:00:00 and 2017-04-01 00:00:00\n",
      "100%|██████████| 5/5 [00:08<00:00,  1.65s/it]\n",
      "INFO:fbprophet:Disabling weekly seasonality. Run prophet with weekly_seasonality=True to override this.\n",
      "INFO:fbprophet:Disabling daily seasonality. Run prophet with daily_seasonality=True to override this.\n"
     ]
    },
    {
     "name": "stdout",
     "output_type": "stream",
     "text": [
      "iteration=91\n"
     ]
    },
    {
     "name": "stderr",
     "output_type": "stream",
     "text": [
      "INFO:fbprophet:Making 5 forecasts with cutoffs between 2013-04-02 00:00:00 and 2017-04-01 00:00:00\n",
      "100%|██████████| 5/5 [00:07<00:00,  1.53s/it]\n",
      "INFO:fbprophet:Disabling weekly seasonality. Run prophet with weekly_seasonality=True to override this.\n",
      "INFO:fbprophet:Disabling daily seasonality. Run prophet with daily_seasonality=True to override this.\n"
     ]
    },
    {
     "name": "stdout",
     "output_type": "stream",
     "text": [
      "iteration=92\n"
     ]
    },
    {
     "name": "stderr",
     "output_type": "stream",
     "text": [
      "INFO:fbprophet:Making 5 forecasts with cutoffs between 2013-04-02 00:00:00 and 2017-04-01 00:00:00\n",
      "100%|██████████| 5/5 [00:07<00:00,  1.49s/it]\n",
      "INFO:fbprophet:Disabling weekly seasonality. Run prophet with weekly_seasonality=True to override this.\n",
      "INFO:fbprophet:Disabling daily seasonality. Run prophet with daily_seasonality=True to override this.\n"
     ]
    },
    {
     "name": "stdout",
     "output_type": "stream",
     "text": [
      "iteration=93\n"
     ]
    },
    {
     "name": "stderr",
     "output_type": "stream",
     "text": [
      "INFO:fbprophet:Making 5 forecasts with cutoffs between 2013-04-02 00:00:00 and 2017-04-01 00:00:00\n",
      "100%|██████████| 5/5 [00:07<00:00,  1.48s/it]\n",
      "INFO:fbprophet:Disabling weekly seasonality. Run prophet with weekly_seasonality=True to override this.\n",
      "INFO:fbprophet:Disabling daily seasonality. Run prophet with daily_seasonality=True to override this.\n"
     ]
    },
    {
     "name": "stdout",
     "output_type": "stream",
     "text": [
      "iteration=94\n"
     ]
    },
    {
     "name": "stderr",
     "output_type": "stream",
     "text": [
      "INFO:fbprophet:Making 5 forecasts with cutoffs between 2013-04-02 00:00:00 and 2017-04-01 00:00:00\n",
      "100%|██████████| 5/5 [00:07<00:00,  1.48s/it]\n",
      "INFO:fbprophet:Disabling weekly seasonality. Run prophet with weekly_seasonality=True to override this.\n",
      "INFO:fbprophet:Disabling daily seasonality. Run prophet with daily_seasonality=True to override this.\n"
     ]
    },
    {
     "name": "stdout",
     "output_type": "stream",
     "text": [
      "iteration=95\n"
     ]
    },
    {
     "name": "stderr",
     "output_type": "stream",
     "text": [
      "INFO:fbprophet:Making 5 forecasts with cutoffs between 2013-04-02 00:00:00 and 2017-04-01 00:00:00\n",
      "100%|██████████| 5/5 [00:07<00:00,  1.44s/it]\n",
      "INFO:fbprophet:Disabling weekly seasonality. Run prophet with weekly_seasonality=True to override this.\n",
      "INFO:fbprophet:Disabling daily seasonality. Run prophet with daily_seasonality=True to override this.\n"
     ]
    },
    {
     "name": "stdout",
     "output_type": "stream",
     "text": [
      "iteration=96\n"
     ]
    },
    {
     "name": "stderr",
     "output_type": "stream",
     "text": [
      "INFO:fbprophet:Making 5 forecasts with cutoffs between 2013-04-02 00:00:00 and 2017-04-01 00:00:00\n",
      "100%|██████████| 5/5 [00:07<00:00,  1.45s/it]\n",
      "INFO:fbprophet:Disabling weekly seasonality. Run prophet with weekly_seasonality=True to override this.\n",
      "INFO:fbprophet:Disabling daily seasonality. Run prophet with daily_seasonality=True to override this.\n"
     ]
    },
    {
     "name": "stdout",
     "output_type": "stream",
     "text": [
      "iteration=97\n"
     ]
    },
    {
     "name": "stderr",
     "output_type": "stream",
     "text": [
      "INFO:fbprophet:Making 5 forecasts with cutoffs between 2013-04-02 00:00:00 and 2017-04-01 00:00:00\n",
      "100%|██████████| 5/5 [00:07<00:00,  1.58s/it]\n",
      "INFO:fbprophet:Disabling weekly seasonality. Run prophet with weekly_seasonality=True to override this.\n",
      "INFO:fbprophet:Disabling daily seasonality. Run prophet with daily_seasonality=True to override this.\n"
     ]
    },
    {
     "name": "stdout",
     "output_type": "stream",
     "text": [
      "iteration=98\n"
     ]
    },
    {
     "name": "stderr",
     "output_type": "stream",
     "text": [
      "INFO:fbprophet:Making 5 forecasts with cutoffs between 2013-04-02 00:00:00 and 2017-04-01 00:00:00\n",
      "100%|██████████| 5/5 [00:07<00:00,  1.41s/it]\n",
      "INFO:fbprophet:Disabling weekly seasonality. Run prophet with weekly_seasonality=True to override this.\n",
      "INFO:fbprophet:Disabling daily seasonality. Run prophet with daily_seasonality=True to override this.\n"
     ]
    },
    {
     "name": "stdout",
     "output_type": "stream",
     "text": [
      "iteration=99\n"
     ]
    },
    {
     "name": "stderr",
     "output_type": "stream",
     "text": [
      "INFO:fbprophet:Making 5 forecasts with cutoffs between 2013-04-02 00:00:00 and 2017-04-01 00:00:00\n",
      "100%|██████████| 5/5 [00:07<00:00,  1.46s/it]\n",
      "INFO:fbprophet:Disabling weekly seasonality. Run prophet with weekly_seasonality=True to override this.\n",
      "INFO:fbprophet:Disabling daily seasonality. Run prophet with daily_seasonality=True to override this.\n"
     ]
    },
    {
     "name": "stdout",
     "output_type": "stream",
     "text": [
      "iteration=100\n"
     ]
    },
    {
     "name": "stderr",
     "output_type": "stream",
     "text": [
      "INFO:fbprophet:Making 5 forecasts with cutoffs between 2013-04-02 00:00:00 and 2017-04-01 00:00:00\n",
      "100%|██████████| 5/5 [00:07<00:00,  1.43s/it]\n",
      "INFO:fbprophet:Disabling weekly seasonality. Run prophet with weekly_seasonality=True to override this.\n",
      "INFO:fbprophet:Disabling daily seasonality. Run prophet with daily_seasonality=True to override this.\n"
     ]
    },
    {
     "name": "stdout",
     "output_type": "stream",
     "text": [
      "iteration=101\n"
     ]
    },
    {
     "name": "stderr",
     "output_type": "stream",
     "text": [
      "INFO:fbprophet:Making 5 forecasts with cutoffs between 2013-04-02 00:00:00 and 2017-04-01 00:00:00\n",
      "100%|██████████| 5/5 [00:07<00:00,  1.52s/it]\n",
      "INFO:fbprophet:Disabling weekly seasonality. Run prophet with weekly_seasonality=True to override this.\n",
      "INFO:fbprophet:Disabling daily seasonality. Run prophet with daily_seasonality=True to override this.\n"
     ]
    },
    {
     "name": "stdout",
     "output_type": "stream",
     "text": [
      "iteration=102\n"
     ]
    },
    {
     "name": "stderr",
     "output_type": "stream",
     "text": [
      "INFO:fbprophet:Making 5 forecasts with cutoffs between 2013-04-02 00:00:00 and 2017-04-01 00:00:00\n",
      "100%|██████████| 5/5 [00:07<00:00,  1.53s/it]"
     ]
    },
    {
     "name": "stdout",
     "output_type": "stream",
     "text": [
      "iteration=103\n"
     ]
    },
    {
     "name": "stderr",
     "output_type": "stream",
     "text": [
      "\n"
     ]
    }
   ],
   "source": [
    "zipcodes = list(df_time_series.columns)\n",
    "dict_mape5 = {}\n",
    "dict_pred5 = {}\n",
    "i = 1\n",
    "for zipcode in zipcodes:\n",
    "    # Create a new dataframe with dates and prices\n",
    "    ts = pd.DataFrame({'ds':df_time_series.index, 'y':df_time_series[zipcode]})\n",
    "    # Create a Prophet instance and fit the model\n",
    "    m = Prophet(yearly_seasonality=False, changepoint_range=0.9, changepoint_prior_scale=0.25)\n",
    "    m.fit(ts)\n",
    "\n",
    "    # Create a dataframe holding dates for our forecast of one month period\n",
    "    future = m.make_future_dataframe(periods=1, freq='M')\n",
    "    # Create a forecast object which will hold all of the resulting data from the future.\n",
    "    forecast = m.predict(future)\n",
    "\n",
    "    # Fit the model with 17 years of training data, a horizon of 365 days (one year) and forecasting per year between 2013 and 2017\n",
    "    df_cv = cross_validation(m, initial='6205 days', period='365 days', horizon = '365 days')\n",
    "    df_p = performance_metrics(df_cv)\n",
    "\n",
    "    # Create a dictionary with average MAPE of every zipcode\n",
    "    dict_mape5[zipcode] = np.mean(df_p['mape'])\n",
    "    # Create a dictionary with forecasted prices of zipcodes for May 2018\n",
    "    dict_pred5[zipcode] = np.array(forecast.yhat)[-1]\n",
    "    print(f'iteration={i}')\n",
    "    i += 1"
   ]
  },
  {
   "cell_type": "code",
   "execution_count": 26,
   "metadata": {},
   "outputs": [
    {
     "data": {
      "text/plain": [
       "0.056519773001086626"
      ]
     },
     "execution_count": 26,
     "metadata": {},
     "output_type": "execute_result"
    }
   ],
   "source": [
    "np.mean(list(dict_mape5.values()))"
   ]
  },
  {
   "cell_type": "code",
   "execution_count": 27,
   "metadata": {},
   "outputs": [],
   "source": [
    "fbp_mape = dict_mape\n",
    "fbp_pred = dict_pred\n",
    "fbp_mape2 = dict_mape5\n",
    "fbp_pred2 = dict_pred5"
   ]
  },
  {
   "cell_type": "code",
   "execution_count": 34,
   "metadata": {},
   "outputs": [],
   "source": [
    "import pickle"
   ]
  },
  {
   "cell_type": "code",
   "execution_count": 35,
   "metadata": {},
   "outputs": [],
   "source": [
    "pickle_out = open('fbp_mape.pickle','wb')\n",
    "pickle.dump(fbp_mape, pickle_out)\n",
    "pickle_out.close()\n",
    "pickle_out = open('fbp_pred.pickle','wb')\n",
    "pickle.dump(fbp_pred, pickle_out)\n",
    "pickle_out.close()\n",
    "pickle_out = open('fbp_mape2.pickle','wb')\n",
    "pickle.dump(fbp_mape2, pickle_out)\n",
    "pickle_out.close()\n",
    "pickle_out = open('fbp_pred2.pickle','wb')\n",
    "pickle.dump(fbp_pred2, pickle_out)\n",
    "pickle_out.close()\n"
   ]
  },
  {
   "cell_type": "code",
   "execution_count": null,
   "metadata": {},
   "outputs": [],
   "source": []
  }
 ],
 "metadata": {
  "interpreter": {
   "hash": "7a3d059f376a9d0551670ac739dcc834dd342b8d7d90019c6bdbef463e084516"
  },
  "kernelspec": {
   "display_name": "Python 3.8.5 64-bit ('learn-env': conda)",
   "language": "python",
   "name": "python3"
  },
  "language_info": {
   "codemirror_mode": {
    "name": "ipython",
    "version": 3
   },
   "file_extension": ".py",
   "mimetype": "text/x-python",
   "name": "python",
   "nbconvert_exporter": "python",
   "pygments_lexer": "ipython3",
   "version": "3.8.5"
  },
  "orig_nbformat": 4
 },
 "nbformat": 4,
 "nbformat_minor": 2
}
